{
  "cells": [
    {
      "cell_type": "markdown",
      "metadata": {
        "id": "KJqp9AANOCtf"
      },
      "source": [
        "<img src=\"https://raw.githubusercontent.com/andre-marcos-perez/ebac-course-utils/main/media/logo/newebac_logo_black_half.png\" alt=\"ebac-logo\">\n",
        "\n",
        "---\n",
        "\n",
        "# **Módulo 02** | Python: Estruturas de Dados\n",
        "Caderno de **Exercícios**<br> \n",
        "Professor [André Perez](https://www.linkedin.com/in/andremarcosperez/)\n",
        "\n",
        "---"
      ]
    },
    {
      "cell_type": "markdown",
      "metadata": {
        "id": "d9jDtUbDOE1-"
      },
      "source": [
        "# **Tópicos**\n",
        "\n",
        "<ol type=\"1\">\n",
        "  <li>Listas;</li>\n",
        "  <li>Conjuntos;</li>\n",
        "  <li>Dicionários.</li>\n",
        "</ol>"
      ]
    },
    {
      "cell_type": "markdown",
      "metadata": {
        "id": "SmoHgt-lwkpD"
      },
      "source": [
        "---"
      ]
    },
    {
      "cell_type": "markdown",
      "metadata": {
        "id": "GABI6OW8OfQ2"
      },
      "source": [
        "# **Exercícios**"
      ]
    },
    {
      "cell_type": "markdown",
      "metadata": {
        "id": "muD1vxozykSC"
      },
      "source": [
        "## 1\\. Listas"
      ]
    },
    {
      "cell_type": "markdown",
      "metadata": {
        "id": "ahrFfCuBxJKs"
      },
      "source": [
        "Criei uma lista chamada `filmes` com o nome dos 10 primeiros filmes mais bem avaliados no site no [IMDB](https://www.imdb.com/chart/top/). Imprima o resultado."
      ]
    },
    {
      "cell_type": "code",
      "execution_count": 1,
      "metadata": {
        "colab": {
          "base_uri": "https://localhost:8080/"
        },
        "id": "OgL6Hv3bzOHI",
        "outputId": "227296a9-3972-4f8f-afcf-3c28aef8c57c"
      },
      "outputs": [
        {
          "name": "stdout",
          "output_type": "stream",
          "text": [
            "['Um Sonho de liberdades', ' O Poderoso Chefão', ' Batman: O Cavaleiro das Trevas', ' O Poderoso Chefão II', ' 12 Homens e uma Sentença', ' A Lista de Schindler', ' O Senhor dos Anéis: O Retorno do Rei', ' Pulp Fiction: Tempo de Violência', ' O Senhor dos Anéis: A Sociedade do Anel', ' Três Homens em Conflito']\n",
            "<class 'list'>\n"
          ]
        }
      ],
      "source": [
        "filmes = ['Um Sonho de liberdades',\n",
        "        ' O Poderoso Chefão', \n",
        "        ' Batman: O Cavaleiro das Trevas',\n",
        "        ' O Poderoso Chefão II',\n",
        "        ' 12 Homens e uma Sentença', \n",
        "        ' A Lista de Schindler', \n",
        "        ' O Senhor dos Anéis: O Retorno do Rei',\n",
        "        ' Pulp Fiction: Tempo de Violência',\n",
        "        ' O Senhor dos Anéis: A Sociedade do Anel',\n",
        "        ' Três Homens em Conflito',\n",
        "                                           ]\n",
        "\n",
        "print(filmes)\n",
        "print(type(filmes))"
      ]
    },
    {
      "cell_type": "markdown",
      "metadata": {
        "id": "KI9zQRT2xa7m"
      },
      "source": [
        "Simule a movimentação do *ranking*. Utilize os métodos `insert` e `pop` para trocar a posição do primeiro e do segundo filme da lista. Imprima o resultado.\n",
        "\n"
      ]
    },
    {
      "cell_type": "code",
      "execution_count": 2,
      "metadata": {
        "colab": {
          "base_uri": "https://localhost:8080/"
        },
        "id": "zX3mA3_GzrXH",
        "outputId": "af25aebe-79b8-4132-ca18-177a492bd7fa"
      },
      "outputs": [
        {
          "name": "stdout",
          "output_type": "stream",
          "text": [
            " O Poderoso Chefão\n"
          ]
        }
      ],
      "source": [
        "filme = filmes.pop(1)\n",
        "print(filme)\n",
        "\n",
        "\n"
      ]
    },
    {
      "cell_type": "code",
      "execution_count": 3,
      "metadata": {
        "colab": {
          "base_uri": "https://localhost:8080/"
        },
        "id": "tGtKhZzrAutd",
        "outputId": "3e76cfed-5308-4e71-f68a-e0ec1cf15de9"
      },
      "outputs": [
        {
          "name": "stdout",
          "output_type": "stream",
          "text": [
            "['Um Sonho de liberdades', ' Batman: O Cavaleiro das Trevas', ' O Poderoso Chefão II', ' 12 Homens e uma Sentença', ' A Lista de Schindler', ' O Senhor dos Anéis: O Retorno do Rei', ' Pulp Fiction: Tempo de Violência', ' O Senhor dos Anéis: A Sociedade do Anel', ' Três Homens em Conflito']\n"
          ]
        }
      ],
      "source": [
        "print(filmes)"
      ]
    },
    {
      "cell_type": "code",
      "execution_count": 4,
      "metadata": {
        "colab": {
          "base_uri": "https://localhost:8080/"
        },
        "id": "uVcyYnb7AyG2",
        "outputId": "9d6d0148-a963-4774-c8c4-8054fb04bc23"
      },
      "outputs": [
        {
          "name": "stdout",
          "output_type": "stream",
          "text": [
            "['Um Sonho de liberdades', ' Batman: O Cavaleiro das Trevas', 'o poderoso chefão', ' O Poderoso Chefão II', ' 12 Homens e uma Sentença', ' A Lista de Schindler', ' O Senhor dos Anéis: O Retorno do Rei', ' Pulp Fiction: Tempo de Violência', ' O Senhor dos Anéis: A Sociedade do Anel', ' Três Homens em Conflito']\n"
          ]
        }
      ],
      "source": [
        "filme_2 = filmes.insert (2, \"o poderoso chefão\")\n",
        "\n",
        "print(filmes)"
      ]
    },
    {
      "cell_type": "markdown",
      "metadata": {
        "id": "zMN1Q3jdwoJm"
      },
      "source": [
        "---"
      ]
    },
    {
      "cell_type": "markdown",
      "metadata": {
        "id": "lxa5L6uF0ZJE"
      },
      "source": [
        "## 2\\. Conjuntos"
      ]
    },
    {
      "cell_type": "markdown",
      "metadata": {
        "id": "9JahS2Kj0d5u"
      },
      "source": [
        "Aconteceu um erro no seu *ranking*. Simule a duplicação dos três últimos filmes da lista. Imprima o resultado."
      ]
    },
    {
      "cell_type": "code",
      "execution_count": 5,
      "metadata": {
        "colab": {
          "base_uri": "https://localhost:8080/"
        },
        "id": "BnjnLBNC6PGe",
        "outputId": "a8442320-049a-4bfb-a650-cd3743ff0b2b"
      },
      "outputs": [
        {
          "name": "stdout",
          "output_type": "stream",
          "text": [
            "['Um Sonho de liberdades', ' O Poderoso Chefão', ' Batman: O Cavaleiro das Trevas', ' O Poderoso Chefão II', ' 12 Homens e uma Sentença', ' A Lista de Schindler', ' O Senhor dos Anéis: O Retorno do Rei', ' Pulp Fiction: Tempo de Violência', ' O Senhor dos Anéis: A Sociedade do Anel', ' Três Homens em Conflito', ' Pulp Fiction: Tempo de Violência', ' O Senhor dos Anéis: A Sociedade do Anel', ' Três Homens em Conflito']\n"
          ]
        }
      ],
      "source": [
        "filmes= ['Um Sonho de liberdades',\n",
        "        ' O Poderoso Chefão', \n",
        "        ' Batman: O Cavaleiro das Trevas',\n",
        "        ' O Poderoso Chefão II',\n",
        "        ' 12 Homens e uma Sentença', \n",
        "        ' A Lista de Schindler', \n",
        "        ' O Senhor dos Anéis: O Retorno do Rei',\n",
        "        ' Pulp Fiction: Tempo de Violência',\n",
        "        ' O Senhor dos Anéis: A Sociedade do Anel',\n",
        "        ' Três Homens em Conflito',\n",
        "        ' Pulp Fiction: Tempo de Violência',\n",
        "        ' O Senhor dos Anéis: A Sociedade do Anel',\n",
        "        ' Três Homens em Conflito',\n",
        "                                           ]\n",
        "print(filmes)\n"
      ]
    },
    {
      "cell_type": "markdown",
      "metadata": {
        "id": "suxTfCJB6ZiX"
      },
      "source": [
        "Utiliza a conversão `set` e `list` para remover os valores duplicados. Imprima o resultado. "
      ]
    },
    {
      "cell_type": "code",
      "execution_count": 2,
      "metadata": {
        "colab": {
          "base_uri": "https://localhost:8080/"
        },
        "id": "90PLMXJiHw6Q",
        "outputId": "6603bb40-0d65-46e5-aae9-f3624c66d6d1"
      },
      "outputs": [
        {
          "name": "stdout",
          "output_type": "stream",
          "text": [
            "{' A Lista de Schindler', ' O Poderoso Chefão', ' Três Homens em Conflito', ' O Poderoso Chefão II', ' O Senhor dos Anéis: A Sociedade do Anel', ' 12 Homens e uma Sentença', ' Batman: O Cavaleiro das Trevas', ' Pulp Fiction: Tempo de Violência', 'Um Sonho de liberdades', ' O Senhor dos Anéis: O Retorno do Rei'}\n",
            "<class 'set'>\n"
          ]
        }
      ],
      "source": [
        "filmes =set( ['Um Sonho de liberdades', \n",
        "        ' O Poderoso Chefão', \n",
        "        ' Batman: O Cavaleiro das Trevas',\n",
        "        ' O Poderoso Chefão II',\n",
        "        ' 12 Homens e uma Sentença', \n",
        "        ' A Lista de Schindler',\n",
        "        ' O Senhor dos Anéis: O Retorno do Rei' ,\n",
        "        ' Pulp Fiction: Tempo de Violência',\n",
        "        ' O Senhor dos Anéis: A Sociedade do Anel',\n",
        "        ' Três Homens em Conflito',\n",
        "        ' Pulp Fiction: Tempo de Violência',\n",
        "        ' O Senhor dos Anéis: A Sociedade do Anel',\n",
        "        ' Três Homens em Conflito' ])\n",
        "        \n",
        "print(filmes)\n",
        "print(type(filmes))"
      ]
    },
    {
      "cell_type": "markdown",
      "metadata": {
        "id": "ShkK35eQ6pAM"
      },
      "source": [
        "---"
      ]
    },
    {
      "cell_type": "markdown",
      "metadata": {
        "id": "EL_FzmxL6rTv"
      },
      "source": [
        "## 3\\. Dicionários"
      ]
    },
    {
      "cell_type": "markdown",
      "metadata": {
        "id": "i8l0gFqRCpfT"
      },
      "source": [
        "Repita os exercícios da parte 1 (listas). Os elementos da lista `filmes` devem ser dicionários no seguinte formato: `{'nome': <nome-do-filme>, 'ano': <ano do filme>}, 'sinopse': <sinopse do filme>}`. "
      ]
    },
    {
      "cell_type": "code",
      "execution_count": 18,
      "metadata": {
        "colab": {
          "base_uri": "https://localhost:8080/"
        },
        "id": "kx0Rmku4ACGh",
        "outputId": "61d5d534-a93f-4463-ca3d-75a3ae9d087f"
      },
      "outputs": [
        {
          "name": "stdout",
          "output_type": "stream",
          "text": [
            "{'nome': 'um sonho de liberdade', 'ano': '1994', 'sinopse': 'Dois homens presos se reúnem ao longo de vários anos,encontrando consolo e eventual redenção através de atos de decencia comum'}\n",
            "<class 'dict'>\n"
          ]
        }
      ],
      "source": [
        "um_sonho_de_liberdade = {'nome': 'um sonho de liberdade', \n",
        "                         'ano': '1994', \n",
        "                         'sinopse': 'Dois homens presos se reúnem ao longo de vários anos,encontrando consolo e eventual redenção através de atos de decencia comum'\n",
        "                         }\n",
        "\n",
        "\n",
        "print(um_sonho_de_liberdade)\n",
        "print(type\n",
        "      (um_sonho_de_liberdade))"
      ]
    },
    {
      "cell_type": "code",
      "execution_count": 19,
      "metadata": {
        "colab": {
          "base_uri": "https://localhost:8080/"
        },
        "id": "nUzAEnraHLcS",
        "outputId": "82c7e2d2-9496-4709-a179-d2050ee3d8b6"
      },
      "outputs": [
        {
          "name": "stdout",
          "output_type": "stream",
          "text": [
            "{'nome': 'O Poderoso Chefão', 'ano': '1972', 'sinopse': 'O patriarca idoso de uma dinastia do crime organizado transfere o controle de seu império clandestino para seu filho relutante'}\n",
            "<class 'dict'>\n"
          ]
        }
      ],
      "source": [
        "o_poderoso_chefao ={'nome': 'O Poderoso Chefão', \n",
        "                     'ano': '1972', \n",
        "                     'sinopse': 'O patriarca idoso de uma dinastia do crime organizado transfere o controle de seu império clandestino para seu filho relutante'\n",
        "                     }\n",
        "\n",
        "\n",
        "\n",
        "print(o_poderoso_chefao)\n",
        "print(type\n",
        "      (o_poderoso_chefao))"
      ]
    },
    {
      "cell_type": "code",
      "execution_count": 20,
      "metadata": {
        "colab": {
          "base_uri": "https://localhost:8080/"
        },
        "id": "2-7zjDLeHjxC",
        "outputId": "67dc15ea-ee74-4f45-c808-eff7d0e9d10f"
      },
      "outputs": [
        {
          "name": "stdout",
          "output_type": "stream",
          "text": [
            "{'nome': 'Batman: O Cavaleiro das Trevas', 'ano': '2008', 'sinopse': 'Quando a ameaça conhecida como O Coringa surge de seu passado, causa estragos e caos nas pessoas de Gotham. O Cavaleiro das Trevas deve aceitar um dos maiores testes para combater a injustiça.'}\n",
            "<class 'dict'>\n"
          ]
        }
      ],
      "source": [
        "batman_o_cavalheiro_das_trevas = {'nome':'Batman: O Cavaleiro das Trevas',\n",
        "                                  'ano':'2008', \n",
        "                                  'sinopse':'Quando a ameaça conhecida como O Coringa surge de seu passado, causa estragos e caos nas pessoas de Gotham. O Cavaleiro das Trevas deve aceitar um dos maiores testes para combater a injustiça.'\n",
        "                                              }\n",
        "\n",
        "\n",
        "print(batman_o_cavalheiro_das_trevas)\n",
        "print(type\n",
        "      (batman_o_cavalheiro_das_trevas))"
      ]
    },
    {
      "cell_type": "code",
      "execution_count": 21,
      "metadata": {
        "colab": {
          "base_uri": "https://localhost:8080/"
        },
        "id": "RGpRn1OZIfhL",
        "outputId": "e8abf836-f611-4f76-ab81-6e2c4ac63170"
      },
      "outputs": [
        {
          "name": "stdout",
          "output_type": "stream",
          "text": [
            "{'nome': 'O Poderoso Chefão II', 'ano': '1974', 'sinopse': 'Em 1950, Michael Corleone, agora à frente da família, tenta expandir o negócio do crime a Las Vegas, Los Angeles e Cuba. Paralelamente, é revelada a história de Vito Corleone, e de como saiu da Sicília e chegou a Nova Iorque.'}\n",
            "<class 'dict'>\n"
          ]
        }
      ],
      "source": [
        "O_Poderoso_Chefão_II = {'nome':'O Poderoso Chefão II',\n",
        "                        'ano':'1974',\n",
        "                        'sinopse':'Em 1950, Michael Corleone, agora à frente da família, tenta expandir o negócio do crime a Las Vegas, Los Angeles e Cuba. Paralelamente, é revelada a história de Vito Corleone, e de como saiu da Sicília e chegou a Nova Iorque.'\n",
        "                            }\n",
        "\n",
        "\n",
        "print(O_Poderoso_Chefão_II)\n",
        "print(type\n",
        "      (O_Poderoso_Chefão_II))"
      ]
    },
    {
      "cell_type": "code",
      "execution_count": 22,
      "metadata": {
        "colab": {
          "base_uri": "https://localhost:8080/"
        },
        "id": "PR-F1gFDJPxO",
        "outputId": "b149b428-34f6-4cc5-d992-e5fb825ad198"
      },
      "outputs": [
        {
          "name": "stdout",
          "output_type": "stream",
          "text": [
            "{'nome': ' 12 Homens e uma Sentença', 'ano': '1957', 'sinopse': 'Um jurado que se aposenta tenta evitar um erro judicial forçando seus colegas a reconsiderarem as evidências.'}\n",
            "<class 'dict'>\n"
          ]
        }
      ],
      "source": [
        "XII_Homens_e_uma_Sentença = {'nome':' 12 Homens e uma Sentença',\n",
        "                             'ano':'1957',\n",
        "                             'sinopse':'Um jurado que se aposenta tenta evitar um erro judicial forçando seus colegas a reconsiderarem as evidências.'\n",
        "                                      }\n",
        "\n",
        "print(XII_Homens_e_uma_Sentença)\n",
        "print(type\n",
        "      (XII_Homens_e_uma_Sentença))"
      ]
    },
    {
      "cell_type": "code",
      "execution_count": 23,
      "metadata": {
        "colab": {
          "base_uri": "https://localhost:8080/"
        },
        "id": "Oei6saANKEJ7",
        "outputId": "2a8d59f4-5bb8-4a06-af4c-245dd30c8189"
      },
      "outputs": [
        {
          "name": "stdout",
          "output_type": "stream",
          "text": [
            "{'nome': 'A Lista de Schindler', 'ano': '1993', 'sinopse': 'Depois de testemunhar a perseguição dos judaicos na Polônia ocupada pelos alemães durante a Segunda Guerra Mundial, o industrial Oskar Schindler se começa a preocupar com sua força de trabalho judaica.'}\n",
            "<class 'dict'>\n"
          ]
        }
      ],
      "source": [
        "A_Lista_de_Schindler = {'nome': 'A Lista de Schindler',\n",
        "                        'ano':'1993',\n",
        "                        'sinopse':'Depois de testemunhar a perseguição dos judaicos na Polônia ocupada pelos alemães durante a Segunda Guerra Mundial, o industrial Oskar Schindler se começa a preocupar com sua força de trabalho judaica.'\n",
        "                              }\n",
        "\n",
        "print(A_Lista_de_Schindler)\n",
        "print(type\n",
        "      (A_Lista_de_Schindler))"
      ]
    },
    {
      "cell_type": "code",
      "execution_count": 24,
      "metadata": {
        "colab": {
          "base_uri": "https://localhost:8080/"
        },
        "id": "YnD4u38mKls7",
        "outputId": "b6c2883c-0f3a-4780-ad19-7954078ae92a"
      },
      "outputs": [
        {
          "name": "stdout",
          "output_type": "stream",
          "text": [
            "{'nome': 'O Senhor dos Anéis: O Retorno do Rei', 'ano': '2003', 'sinopse': 'Gandalf e Aragorn lideram o Mundo dos Homens contra o exército de Sauron para desviar o olhar de Frodo e Sam quando eles se aproximam á Montanha da Perdição com o Um Anel.'}\n",
            "<class 'dict'>\n"
          ]
        }
      ],
      "source": [
        " O_Senhor_dos_Anéis_o_Retorno_do_Rei = {'nome': 'O Senhor dos Anéis: O Retorno do Rei',\n",
        "                                         'ano':'2003',\n",
        "                                         'sinopse':'Gandalf e Aragorn lideram o Mundo dos Homens contra o exército de Sauron para desviar o olhar de Frodo e Sam quando eles se aproximam á Montanha da Perdição com o Um Anel.'\n",
        "                                                      }\n",
        "                                                    \n",
        "print(O_Senhor_dos_Anéis_o_Retorno_do_Rei)\n",
        "print(type\n",
        "      (O_Senhor_dos_Anéis_o_Retorno_do_Rei))"
      ]
    },
    {
      "cell_type": "code",
      "execution_count": 25,
      "metadata": {
        "colab": {
          "base_uri": "https://localhost:8080/"
        },
        "id": "bzuVP5CNLVmE",
        "outputId": "b71d3e9e-e014-498c-c004-33d50673ef64"
      },
      "outputs": [
        {
          "name": "stdout",
          "output_type": "stream",
          "text": [
            "{'nome': ' Pulp Fiction: Tempo de Violência ', 'ano': '1994', 'sinopse': 'As vidas de dois assassinos da máfia, um boxeador, um gângster e sua esposa, e um par de bandidos se entrelaçam em quatro histórias de violência e redenção.'}\n",
            "<class 'dict'>\n"
          ]
        }
      ],
      "source": [
        " Pulp_Fiction_Tempo_de_Violência ={'nome':' Pulp Fiction: Tempo de Violência ',\n",
        "                                    'ano':'1994',\n",
        "                                    'sinopse':'As vidas de dois assassinos da máfia, um boxeador, um gângster e sua esposa, e um par de bandidos se entrelaçam em quatro histórias de violência e redenção.'\n",
        "                                            }\n",
        "\n",
        "print(Pulp_Fiction_Tempo_de_Violência)\n",
        "print(type\n",
        "      (Pulp_Fiction_Tempo_de_Violência))"
      ]
    },
    {
      "cell_type": "code",
      "execution_count": 26,
      "metadata": {
        "colab": {
          "base_uri": "https://localhost:8080/"
        },
        "id": "oU4WkJs6LyWd",
        "outputId": "e37342c1-f2ff-47f4-ed4d-642e845885f8"
      },
      "outputs": [
        {
          "name": "stdout",
          "output_type": "stream",
          "text": [
            "{'nome': ' O Senhor dos Anéis: A Sociedade do Anel ', 'ano': '2001', 'sinopse': 'Um manso hobbit do Condado e oito companheiros partem em uma jornada para destruir o poderoso Um Anel e salvar a Terra-média das Trevas.'}\n",
            "<class 'dict'>\n"
          ]
        }
      ],
      "source": [
        " O_Senhor_dos_Anéis_A_Sociedade_do_Anel = {'nome':' O Senhor dos Anéis: A Sociedade do Anel ',\n",
        "                                          'ano':'2001',\n",
        "                                          'sinopse':'Um manso hobbit do Condado e oito companheiros partem em uma jornada para destruir o poderoso Um Anel e salvar a Terra-média das Trevas.'\n",
        "                                                }\n",
        "\n",
        "print(O_Senhor_dos_Anéis_A_Sociedade_do_Anel)\n",
        "print(type\n",
        "      (O_Senhor_dos_Anéis_A_Sociedade_do_Anel))"
      ]
    },
    {
      "cell_type": "code",
      "execution_count": 27,
      "metadata": {
        "colab": {
          "base_uri": "https://localhost:8080/"
        },
        "id": "9ASfWaAZMfS_",
        "outputId": "4fde7869-c61b-4d02-e094-12e67988203b"
      },
      "outputs": [
        {
          "name": "stdout",
          "output_type": "stream",
          "text": [
            "{'nome': ' Três Homens em Conflito', 'ano': '1966', 'sinopse': 'Um impostor se junta com dois homens para encontrar fortuna num remoto cemitério.'}\n",
            "<class 'dict'>\n"
          ]
        }
      ],
      "source": [
        " Três_Homens_em_Conflito = {'nome':' Três Homens em Conflito',\n",
        "                            'ano':'1966',\n",
        "                            'sinopse':'Um impostor se junta com dois homens para encontrar fortuna num remoto cemitério.'\n",
        "                                        }\n",
        "\n",
        "print(Três_Homens_em_Conflito)\n",
        "print(type\n",
        "      (Três_Homens_em_Conflito))"
      ]
    },
    {
      "cell_type": "code",
      "execution_count": 33,
      "metadata": {},
      "outputs": [
        {
          "name": "stdout",
          "output_type": "stream",
          "text": [
            "[{'nome': 'um sonho de liberdade', 'ano': '1994', 'sinopse': 'Dois homens presos se reúnem ao longo de vários anos,encontrando consolo e eventual redenção através de atos de decencia comum'}, {'nome': 'O Poderoso Chefão', 'ano': '1972', 'sinopse': 'O patriarca idoso de uma dinastia do crime organizado transfere o controle de seu império clandestino para seu filho relutante'}, {'nome': 'Batman: O Cavaleiro das Trevas', 'ano': '2008', 'sinopse': 'Quando a ameaça conhecida como O Coringa surge de seu passado, causa estragos e caos nas pessoas de Gotham. O Cavaleiro das Trevas deve aceitar um dos maiores testes para combater a injustiça.'}, {'nome': 'O Poderoso Chefão II', 'ano': '1974', 'sinopse': 'Em 1950, Michael Corleone, agora à frente da família, tenta expandir o negócio do crime a Las Vegas, Los Angeles e Cuba. Paralelamente, é revelada a história de Vito Corleone, e de como saiu da Sicília e chegou a Nova Iorque.'}, {'nome': ' 12 Homens e uma Sentença', 'ano': '1957', 'sinopse': 'Um jurado que se aposenta tenta evitar um erro judicial forçando seus colegas a reconsiderarem as evidências.'}, {'nome': 'A Lista de Schindler', 'ano': '1993', 'sinopse': 'Depois de testemunhar a perseguição dos judaicos na Polônia ocupada pelos alemães durante a Segunda Guerra Mundial, o industrial Oskar Schindler se começa a preocupar com sua força de trabalho judaica.'}, {'nome': 'O Senhor dos Anéis: O Retorno do Rei', 'ano': '2003', 'sinopse': 'Gandalf e Aragorn lideram o Mundo dos Homens contra o exército de Sauron para desviar o olhar de Frodo e Sam quando eles se aproximam á Montanha da Perdição com o Um Anel.'}, {'nome': ' Pulp Fiction: Tempo de Violência ', 'ano': '1994', 'sinopse': 'As vidas de dois assassinos da máfia, um boxeador, um gângster e sua esposa, e um par de bandidos se entrelaçam em quatro histórias de violência e redenção.'}, {'nome': ' O Senhor dos Anéis: A Sociedade do Anel ', 'ano': '2001', 'sinopse': 'Um manso hobbit do Condado e oito companheiros partem em uma jornada para destruir o poderoso Um Anel e salvar a Terra-média das Trevas.'}, {'nome': ' Três Homens em Conflito', 'ano': '1966', 'sinopse': 'Um impostor se junta com dois homens para encontrar fortuna num remoto cemitério.'}]\n",
            "<class 'list'>\n"
          ]
        }
      ],
      "source": [
        "filmes = []\n",
        "\n",
        "filmes.append(um_sonho_de_liberdade)\n",
        "filmes.append(o_poderoso_chefao)\n",
        "filmes.append(batman_o_cavalheiro_das_trevas)\n",
        "filmes.append(O_Poderoso_Chefão_II)\n",
        "filmes.append(XII_Homens_e_uma_Sentença)\n",
        "filmes.append(A_Lista_de_Schindler)\n",
        "filmes.append(O_Senhor_dos_Anéis_o_Retorno_do_Rei)\n",
        "filmes.append(Pulp_Fiction_Tempo_de_Violência)\n",
        "filmes.append(O_Senhor_dos_Anéis_A_Sociedade_do_Anel)\n",
        "filmes.append(Três_Homens_em_Conflito)\n",
        "\n",
        "\n",
        "\n",
        "print(filmes)\n",
        "print(type(filmes))"
      ]
    }
  ],
  "metadata": {
    "colab": {
      "collapsed_sections": [],
      "name": "modulo_2_exercicios_Lucas.ipynb",
      "provenance": [],
      "toc_visible": true
    },
    "kernelspec": {
      "display_name": "Python 3.9.12 ('base')",
      "language": "python",
      "name": "python3"
    },
    "language_info": {
      "codemirror_mode": {
        "name": "ipython",
        "version": 3
      },
      "file_extension": ".py",
      "mimetype": "text/x-python",
      "name": "python",
      "nbconvert_exporter": "python",
      "pygments_lexer": "ipython3",
      "version": "3.9.12"
    },
    "vscode": {
      "interpreter": {
        "hash": "c99ec3b06bb2b7a9ce1cfef1038d6bd1f5e5eb8cf3fb3cc6612960f8106f6dac"
      }
    }
  },
  "nbformat": 4,
  "nbformat_minor": 0
}
