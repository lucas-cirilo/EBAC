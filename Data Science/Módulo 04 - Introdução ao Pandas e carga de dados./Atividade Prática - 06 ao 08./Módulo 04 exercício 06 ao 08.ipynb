{
 "cells": [
  {
   "cell_type": "markdown",
   "metadata": {},
   "source": [
    "# Tarefa 03\n",
    "\n",
    "- Leia os enunciados com atenção\n",
    "- Saiba que pode haver mais de uma resposta correta\n",
    "- Insira novas células de código sempre que achar necessário\n",
    "- Em caso de dúvidas, procure os Tutores\n",
    "- Divirta-se :)"
   ]
  },
  {
   "cell_type": "code",
   "execution_count": 107,
   "metadata": {
    "ExecuteTime": {
     "end_time": "2023-09-16T00:06:34.600216Z",
     "start_time": "2023-09-16T00:06:34.547425Z"
    }
   },
   "outputs": [],
   "source": [
    "import pandas as pd\n",
    "import requests"
   ]
  },
  {
   "cell_type": "markdown",
   "metadata": {},
   "source": [
    "####  1) Lendo de APIs\n",
    "Vimos em aula como carregar dados públicos do governo através de um API (*Application Programming Interface*). No exemplo de aula, baixamos os dados de pedidos de verificação de limites (PVL) realizados por estados, e selecionamos apenas aqueles referentes ao estado de São Paulo.\n",
    "\n",
    "1. Repita os mesmos passos feitos em aula, mas selecione os PVLs realizados por municípios no estado do Rio de Janeiro.\n",
    "2. Quais são os três *status* das solicitações mais frequentes na base? Quais são suas frequências?\n",
    "3. Construa uma nova variável que contenha o ano do **status**. Observe que ```data_status``` vem como tipo *object* no **DataFrame**. Dica: você pode usar o método ```.str``` para transformar o tipo da variável em string, em seguida um método como [**slice()**](https://pandas.pydata.org/docs/reference/api/pandas.Series.str.slice.html) ou [**split()**](https://pandas.pydata.org/pandas-docs/stable/reference/api/pandas.Series.str.split.html).\n",
    "4. Indique a frequência de cada ano do campo construído no item (3)."
   ]
  },
  {
   "cell_type": "code",
   "execution_count": 108,
   "metadata": {
    "ExecuteTime": {
     "end_time": "2023-09-16T00:06:34.925045200Z",
     "start_time": "2023-09-16T00:06:34.555500900Z"
    }
   },
   "outputs": [
    {
     "data": {
      "text/plain": "200"
     },
     "execution_count": 108,
     "metadata": {},
     "output_type": "execute_result"
    }
   ],
   "source": [
    "# 1) Seu código aqui\n",
    "url = 'https://apidatalake.tesouro.gov.br/ords/sadipem/tt/pvl?uf=RJ&tipo_interessado=Munic%C3%ADpio'\n",
    "\n",
    "r =  requests.get(url)\n",
    "r.status_code"
   ]
  },
  {
   "cell_type": "code",
   "execution_count": 109,
   "metadata": {
    "ExecuteTime": {
     "end_time": "2023-09-16T00:06:35.006931600Z",
     "start_time": "2023-09-16T00:06:34.956522500Z"
    }
   },
   "outputs": [
    {
     "data": {
      "text/plain": "   id_pleito tipo_interessado          interessado  cod_ibge  uf num_pvl  \\\n0      10108        Município  São Pedro da Aldeia   3305208  RJ    None   \n\n      status          num_processo        data_protocolo  \\\n0  Arquivado  17944.001122/2008-21  2009-03-06T03:00:00Z   \n\n                 tipo_operacao           finalidade  \\\n0  Operação contratual interna  Caminho da Escola 2   \n\n                       tipo_credor               credor moeda     valor  \\\n0  Instituição Financeira Nacional  Banco do Brasil S/A  Real  598900.0   \n\n   pvl_assoc_divida  pvl_contradado_credor data_status  \n0                 0                      0  13/03/2009  ",
      "text/html": "<div>\n<style scoped>\n    .dataframe tbody tr th:only-of-type {\n        vertical-align: middle;\n    }\n\n    .dataframe tbody tr th {\n        vertical-align: top;\n    }\n\n    .dataframe thead th {\n        text-align: right;\n    }\n</style>\n<table border=\"1\" class=\"dataframe\">\n  <thead>\n    <tr style=\"text-align: right;\">\n      <th></th>\n      <th>id_pleito</th>\n      <th>tipo_interessado</th>\n      <th>interessado</th>\n      <th>cod_ibge</th>\n      <th>uf</th>\n      <th>num_pvl</th>\n      <th>status</th>\n      <th>num_processo</th>\n      <th>data_protocolo</th>\n      <th>tipo_operacao</th>\n      <th>finalidade</th>\n      <th>tipo_credor</th>\n      <th>credor</th>\n      <th>moeda</th>\n      <th>valor</th>\n      <th>pvl_assoc_divida</th>\n      <th>pvl_contradado_credor</th>\n      <th>data_status</th>\n    </tr>\n  </thead>\n  <tbody>\n    <tr>\n      <th>0</th>\n      <td>10108</td>\n      <td>Município</td>\n      <td>São Pedro da Aldeia</td>\n      <td>3305208</td>\n      <td>RJ</td>\n      <td>None</td>\n      <td>Arquivado</td>\n      <td>17944.001122/2008-21</td>\n      <td>2009-03-06T03:00:00Z</td>\n      <td>Operação contratual interna</td>\n      <td>Caminho da Escola 2</td>\n      <td>Instituição Financeira Nacional</td>\n      <td>Banco do Brasil S/A</td>\n      <td>Real</td>\n      <td>598900.0</td>\n      <td>0</td>\n      <td>0</td>\n      <td>13/03/2009</td>\n    </tr>\n  </tbody>\n</table>\n</div>"
     },
     "execution_count": 109,
     "metadata": {},
     "output_type": "execute_result"
    }
   ],
   "source": [
    "data_json = r.json()\n",
    "df_json = pd.DataFrame(data_json['items'])\n",
    "df_json.head(1)"
   ]
  },
  {
   "cell_type": "code",
   "execution_count": 110,
   "metadata": {
    "ExecuteTime": {
     "end_time": "2023-09-16T00:06:35.238713700Z",
     "start_time": "2023-09-16T00:06:34.966038300Z"
    }
   },
   "outputs": [
    {
     "data": {
      "text/plain": "Deferido                                                 101\nArquivado                                                 53\nRegularizado                                              26\nArquivado por decurso de prazo                            24\nDeferido (PVL-IF)                                         22\nEncaminhado à PGFN com manifestação técnica favorável     14\nArquivado a pedido                                         6\nEm retificação pelo interessado                            4\nEm análise                                                 3\nArquivado pela STN                                         1\nEm retificação pelo interessado (PVL-IF)                   1\nName: status, dtype: int64"
     },
     "execution_count": 110,
     "metadata": {},
     "output_type": "execute_result"
    }
   ],
   "source": [
    "#2) seu Código\n",
    "df_json.status.value_counts()"
   ]
  },
  {
   "cell_type": "code",
   "execution_count": 111,
   "metadata": {
    "scrolled": false,
    "ExecuteTime": {
     "end_time": "2023-09-16T00:06:35.288708600Z",
     "start_time": "2023-09-16T00:06:35.192823900Z"
    }
   },
   "outputs": [
    {
     "data": {
      "text/plain": "   id_pleito tipo_interessado          interessado  cod_ibge  uf num_pvl  \\\n0      10108        Município  São Pedro da Aldeia   3305208  RJ    None   \n\n      status          num_processo        data_protocolo  \\\n0  Arquivado  17944.001122/2008-21  2009-03-06T03:00:00Z   \n\n                 tipo_operacao           finalidade  \\\n0  Operação contratual interna  Caminho da Escola 2   \n\n                       tipo_credor               credor moeda     valor  \\\n0  Instituição Financeira Nacional  Banco do Brasil S/A  Real  598900.0   \n\n   pvl_assoc_divida  pvl_contradado_credor data_status   ano  \n0                 0                      0  13/03/2009  2009  ",
      "text/html": "<div>\n<style scoped>\n    .dataframe tbody tr th:only-of-type {\n        vertical-align: middle;\n    }\n\n    .dataframe tbody tr th {\n        vertical-align: top;\n    }\n\n    .dataframe thead th {\n        text-align: right;\n    }\n</style>\n<table border=\"1\" class=\"dataframe\">\n  <thead>\n    <tr style=\"text-align: right;\">\n      <th></th>\n      <th>id_pleito</th>\n      <th>tipo_interessado</th>\n      <th>interessado</th>\n      <th>cod_ibge</th>\n      <th>uf</th>\n      <th>num_pvl</th>\n      <th>status</th>\n      <th>num_processo</th>\n      <th>data_protocolo</th>\n      <th>tipo_operacao</th>\n      <th>finalidade</th>\n      <th>tipo_credor</th>\n      <th>credor</th>\n      <th>moeda</th>\n      <th>valor</th>\n      <th>pvl_assoc_divida</th>\n      <th>pvl_contradado_credor</th>\n      <th>data_status</th>\n      <th>ano</th>\n    </tr>\n  </thead>\n  <tbody>\n    <tr>\n      <th>0</th>\n      <td>10108</td>\n      <td>Município</td>\n      <td>São Pedro da Aldeia</td>\n      <td>3305208</td>\n      <td>RJ</td>\n      <td>None</td>\n      <td>Arquivado</td>\n      <td>17944.001122/2008-21</td>\n      <td>2009-03-06T03:00:00Z</td>\n      <td>Operação contratual interna</td>\n      <td>Caminho da Escola 2</td>\n      <td>Instituição Financeira Nacional</td>\n      <td>Banco do Brasil S/A</td>\n      <td>Real</td>\n      <td>598900.0</td>\n      <td>0</td>\n      <td>0</td>\n      <td>13/03/2009</td>\n      <td>2009</td>\n    </tr>\n  </tbody>\n</table>\n</div>"
     },
     "execution_count": 111,
     "metadata": {},
     "output_type": "execute_result"
    }
   ],
   "source": [
    "# 3) Seu código aqui\n",
    "ano = []\n",
    "data = df_json['data_status'].str.split(pat = '/')\n",
    "for date in data:\n",
    "    try:\n",
    "        ano.append(date[2])\n",
    "    except:\n",
    "        ano.append(np.nan)\n",
    "df_json['ano'] = ano\n",
    "df_json.head(1)"
   ]
  },
  {
   "cell_type": "code",
   "execution_count": 112,
   "metadata": {
    "ExecuteTime": {
     "end_time": "2023-09-16T00:06:35.439789200Z",
     "start_time": "2023-09-16T00:06:35.291681100Z"
    }
   },
   "outputs": [
    {
     "data": {
      "text/plain": "2008    37\n2007    29\n2023    24\n2014    20\n2010    19\n2019    17\n2020    15\n2013    15\n2012    13\n2022    11\n2011    10\n2009     9\n2015     8\n2021     5\n2017     5\n2002     4\n2018     4\n2006     4\n2016     4\n2004     1\n2003     1\nName: ano, dtype: int64"
     },
     "execution_count": 112,
     "metadata": {},
     "output_type": "execute_result"
    }
   ],
   "source": [
    "df_json.ano.value_counts()"
   ]
  },
  {
   "cell_type": "markdown",
   "metadata": {
    "ExecuteTime": {
     "end_time": "2023-09-09T20:25:06.973401300Z",
     "start_time": "2023-09-09T20:25:06.967875700Z"
    }
   },
   "source": [
    "####  2) Melhorando a interação com o API\n",
    "Observe dois URLs de consultas diferentes, por exemplo o URL utilizado em aula, e o URL feito no exercício anterior. Compare-os e observe as diferenças.\n",
    "\n",
    "1. Faça uma função em Python que recebe como argumento o UF da consulta e o tipo de interessado (```'Estado'```ou ```Município```), e que devolve os dados da consulta no formato *DataFrame*.\n",
    "2. Quantas solicitações para o Estado podem ser consultadas para Minas Gerais com *status* em 'Arquivado por decurso de prazo' estão registradas?\n",
    "3. Qual é o município da Bahia com mais solicitações deferidas?\n",
    "4. Salve um arquivo .csv com os dados de solicitações da Bahia, com interessado = 'Estado'"
   ]
  },
  {
   "cell_type": "code",
   "execution_count": 113,
   "metadata": {
    "ExecuteTime": {
     "end_time": "2023-09-16T00:06:35.468912700Z",
     "start_time": "2023-09-16T00:06:35.379460100Z"
    }
   },
   "outputs": [],
   "source": [
    "#1) Seu código aqui\n",
    "\n",
    "def consulta(UF,tipo_interessado):\n",
    "    url = 'https://apidatalake.tesouro.gov.br/ords/sadipem/tt/pvl'\n",
    "\n",
    "    parametros = {\n",
    "        'uf': UF,\n",
    "        'tipo_interessado': tipo_interessado\n",
    "    }\n",
    "    try:\n",
    "        r = requests.get(url, params=parametros)\n",
    "        r.status_code  \n",
    "        data = r.json()  \n",
    "    \n",
    "        df_json = pd.DataFrame(data['items'])\n",
    "    \n",
    "        return df_json\n",
    "    except Error as erro:\n",
    "        print('Erro de conexão: ', erro)"
   ]
  },
  {
   "cell_type": "code",
   "execution_count": 114,
   "metadata": {
    "ExecuteTime": {
     "end_time": "2023-09-16T00:06:35.732944300Z",
     "start_time": "2023-09-16T00:06:35.455516700Z"
    }
   },
   "outputs": [
    {
     "data": {
      "text/plain": "   id_pleito tipo_interessado interessado  cod_ibge  uf num_pvl    status  \\\n0       8789           Estado        Acre        12  AC    None  Deferido   \n\n           num_processo        data_protocolo                tipo_operacao  \\\n0  17944.000841/2013-92  2014-03-25T03:00:00Z  Operação contratual interna   \n\n                                          finalidade  \\\n0  PAC 2 - Pró-Transporte - Pavimentação e Qualif...   \n\n                       tipo_credor                   credor moeda       valor  \\\n0  Instituição Financeira Nacional  Caixa Econômica Federal  Real  34150000.0   \n\n   pvl_assoc_divida  pvl_contradado_credor data_status  \n0                 1                      0  07/04/2014  ",
      "text/html": "<div>\n<style scoped>\n    .dataframe tbody tr th:only-of-type {\n        vertical-align: middle;\n    }\n\n    .dataframe tbody tr th {\n        vertical-align: top;\n    }\n\n    .dataframe thead th {\n        text-align: right;\n    }\n</style>\n<table border=\"1\" class=\"dataframe\">\n  <thead>\n    <tr style=\"text-align: right;\">\n      <th></th>\n      <th>id_pleito</th>\n      <th>tipo_interessado</th>\n      <th>interessado</th>\n      <th>cod_ibge</th>\n      <th>uf</th>\n      <th>num_pvl</th>\n      <th>status</th>\n      <th>num_processo</th>\n      <th>data_protocolo</th>\n      <th>tipo_operacao</th>\n      <th>finalidade</th>\n      <th>tipo_credor</th>\n      <th>credor</th>\n      <th>moeda</th>\n      <th>valor</th>\n      <th>pvl_assoc_divida</th>\n      <th>pvl_contradado_credor</th>\n      <th>data_status</th>\n    </tr>\n  </thead>\n  <tbody>\n    <tr>\n      <th>0</th>\n      <td>8789</td>\n      <td>Estado</td>\n      <td>Acre</td>\n      <td>12</td>\n      <td>AC</td>\n      <td>None</td>\n      <td>Deferido</td>\n      <td>17944.000841/2013-92</td>\n      <td>2014-03-25T03:00:00Z</td>\n      <td>Operação contratual interna</td>\n      <td>PAC 2 - Pró-Transporte - Pavimentação e Qualif...</td>\n      <td>Instituição Financeira Nacional</td>\n      <td>Caixa Econômica Federal</td>\n      <td>Real</td>\n      <td>34150000.0</td>\n      <td>1</td>\n      <td>0</td>\n      <td>07/04/2014</td>\n    </tr>\n  </tbody>\n</table>\n</div>"
     },
     "execution_count": 114,
     "metadata": {},
     "output_type": "execute_result"
    }
   ],
   "source": [
    "consulta('AC', 'Estado').head(1)"
   ]
  },
  {
   "cell_type": "code",
   "execution_count": 115,
   "metadata": {
    "ExecuteTime": {
     "end_time": "2023-09-16T00:06:35.951257800Z",
     "start_time": "2023-09-16T00:06:35.730302300Z"
    }
   },
   "outputs": [
    {
     "data": {
      "text/plain": "Encaminhado à PGFN com manifestação técnica favorável    20\nDeferido                                                  7\nArquivado a pedido                                        5\nArquivado                                                 3\nArquivado pela STN                                        3\nArquivado por decurso de prazo                            1\nIndeferido                                                1\nName: status, dtype: int64"
     },
     "execution_count": 115,
     "metadata": {},
     "output_type": "execute_result"
    }
   ],
   "source": [
    "# 2) Seu código aqui\n",
    "consulta('MG','Estado').status.value_counts()"
   ]
  },
  {
   "cell_type": "code",
   "execution_count": 116,
   "metadata": {
    "ExecuteTime": {
     "end_time": "2023-09-16T00:06:35.966023800Z",
     "start_time": "2023-09-16T00:06:35.926435Z"
    }
   },
   "outputs": [
    {
     "data": {
      "text/plain": "    id_pleito tipo_interessado   interessado  cod_ibge  uf  \\\n19      20534           Estado  Minas Gerais        31  MG   \n\n                 num_pvl                          status  \\\n19  00000.000000/2017-69  Arquivado por decurso de prazo   \n\n            num_processo        data_protocolo                tipo_operacao  \\\n19  17944.001113/2015-60  2017-07-26T03:00:00Z  Operação contratual interna   \n\n   finalidade                      tipo_credor  \\\n19       PMAE  Instituição Financeira Nacional   \n\n                                               credor moeda      valor  \\\n19  Banco Nacional de Desenvolvimento Econômico e ...  Real  7668000.0   \n\n    pvl_assoc_divida  pvl_contradado_credor data_status  \n19                 0                      0  16/03/2018  ",
      "text/html": "<div>\n<style scoped>\n    .dataframe tbody tr th:only-of-type {\n        vertical-align: middle;\n    }\n\n    .dataframe tbody tr th {\n        vertical-align: top;\n    }\n\n    .dataframe thead th {\n        text-align: right;\n    }\n</style>\n<table border=\"1\" class=\"dataframe\">\n  <thead>\n    <tr style=\"text-align: right;\">\n      <th></th>\n      <th>id_pleito</th>\n      <th>tipo_interessado</th>\n      <th>interessado</th>\n      <th>cod_ibge</th>\n      <th>uf</th>\n      <th>num_pvl</th>\n      <th>status</th>\n      <th>num_processo</th>\n      <th>data_protocolo</th>\n      <th>tipo_operacao</th>\n      <th>finalidade</th>\n      <th>tipo_credor</th>\n      <th>credor</th>\n      <th>moeda</th>\n      <th>valor</th>\n      <th>pvl_assoc_divida</th>\n      <th>pvl_contradado_credor</th>\n      <th>data_status</th>\n    </tr>\n  </thead>\n  <tbody>\n    <tr>\n      <th>19</th>\n      <td>20534</td>\n      <td>Estado</td>\n      <td>Minas Gerais</td>\n      <td>31</td>\n      <td>MG</td>\n      <td>00000.000000/2017-69</td>\n      <td>Arquivado por decurso de prazo</td>\n      <td>17944.001113/2015-60</td>\n      <td>2017-07-26T03:00:00Z</td>\n      <td>Operação contratual interna</td>\n      <td>PMAE</td>\n      <td>Instituição Financeira Nacional</td>\n      <td>Banco Nacional de Desenvolvimento Econômico e ...</td>\n      <td>Real</td>\n      <td>7668000.0</td>\n      <td>0</td>\n      <td>0</td>\n      <td>16/03/2018</td>\n    </tr>\n  </tbody>\n</table>\n</div>"
     },
     "execution_count": 116,
     "metadata": {},
     "output_type": "execute_result"
    }
   ],
   "source": [
    "mg[mg['status'] == 'Arquivado por decurso de prazo'].status.value_counts()\n",
    "\n",
    "# mostrando as linhas com o status:\n",
    "mg[mg['status'] == 'Arquivado por decurso de prazo']"
   ]
  },
  {
   "cell_type": "code",
   "execution_count": 117,
   "metadata": {
    "ExecuteTime": {
     "end_time": "2023-09-16T00:06:36.514234500Z",
     "start_time": "2023-09-16T00:06:35.951257800Z"
    }
   },
   "outputs": [
    {
     "data": {
      "text/plain": "Luís Eduardo Magalhães    16\nVitória da Conquista      12\nBarreiras                 10\nLauro de Freitas          10\nCamaçari                  10\n                          ..\nXique-Xique                1\nPaulo Afonso               1\nItaguaçu da Bahia          1\nIbotirama                  1\nConceição do Jacuípe       1\nName: interessado, Length: 182, dtype: int64"
     },
     "execution_count": 117,
     "metadata": {},
     "output_type": "execute_result"
    }
   ],
   "source": [
    "# 3) Seu código códig\n",
    "\n",
    "ba = consulta('BA', 'Município')\n",
    "status_ba = ba[ba.status == 'Deferido']\n",
    "status_ba['interessado'].value_counts()\n"
   ]
  },
  {
   "cell_type": "code",
   "execution_count": 118,
   "metadata": {
    "ExecuteTime": {
     "end_time": "2023-09-16T00:06:36.959177700Z",
     "start_time": "2023-09-16T00:06:36.507997Z"
    }
   },
   "outputs": [],
   "source": [
    "# 4) Seu código aqui\n",
    "consulta('BA', 'Município').to_csv('c:/users/datas/Downloads/CSV/solicitacoes_bahia.csv', sep =',', index = False, mode = 'w')"
   ]
  }
 ],
 "metadata": {
  "kernelspec": {
   "display_name": "Python 3 (ipykernel)",
   "language": "python",
   "name": "python3"
  },
  "language_info": {
   "codemirror_mode": {
    "name": "ipython",
    "version": 3
   },
   "file_extension": ".py",
   "mimetype": "text/x-python",
   "name": "python",
   "nbconvert_exporter": "python",
   "pygments_lexer": "ipython3",
   "version": "3.11.4"
  }
 },
 "nbformat": 4,
 "nbformat_minor": 4
}
