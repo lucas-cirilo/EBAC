{
 "cells": [
  {
   "cell_type": "markdown",
   "metadata": {},
   "source": [
    "# Módulo 5 Tarefa 1\n",
    "## Base de nascidos vivos do DataSUS\n",
    "O DataSUS disponibiliza diversos arquivos de dados com relação a seus segurados, conforme a [lei da transparência de informações públicas](https://www.sisgov.com/transparencia-acesso-informacao/#:~:text=A%20Lei%20da%20Transpar%C3%AAncia%20(LC,em%20um%20site%20na%20internet.). \n",
    "\n",
    "Essas informações podem ser obtidas pela internet [aqui](http://www2.datasus.gov.br/DATASUS/index.php?area=0901&item=1). Como o processo de obtenção desses arquivos foge um pouco do nosso escopo, deixamos o arquivo ```SINASC_RO_2019.csv``` já como vai ser encontrado no DataSUS. O dicionário de dados está no arquivo ```estrutura_sinasc_para_CD.pdf``` (o nome do arquivo tal qual no portal do DataSUS).\n",
    "\n",
    "### Nosso objetivo\n",
    "Queremos deixar uma base organizada para podermos estudar a relação entre partos com risco para o bebê e algumas condições como tempo de parto, consultas de pré-natal etc.\n",
    "\n",
    "#### Preparação da base\n",
    "1. Carregue a base 'SINASC_RO_2019.csv'. Conte o número de registros e o número de registros não duplicados da base. Dica: você aprendeu um método que remove duplicados, encadeie este método com um outro método que conta o número de linhas. **Há linhas duplicadas?**  \n",
    "\n",
    "2. Conte o número de valores *missing* por variável.  \n",
    "\n",
    "3. Ok, no item anterior você deve ter achado pouco prático ler a informação de tantas variáveis, muitas delas nem devem ser interesantes. Então crie uma seleção dessa base somente com as colunas que interessam. São elas:\n",
    "``` \n",
    "['LOCNASC', 'IDADEMAE', 'ESTCIVMAE', 'ESCMAE', 'QTDFILVIVO', \n",
    "    'GESTACAO', 'GRAVIDEZ', 'CONSULTAS', 'APGAR5'] \n",
    "```\n",
    "Refaça a contagem de valores *missings*.  \n",
    "\n",
    "4. Apgar é uma *nota* que o pediatra dá ao bebê quando nasce de acordo com algumas características associadas principalmente à respiração. Apgar 1 e Apgar 5 são as notas 1 e 5 minutos do nascimento. Apgar5 será a nossa variável de interesse principal. Então remova todos os registros com Apgar5 não preenchido. Para esta seleção, conte novamente o número de linhas e o número de *missings*.  \n",
    "\n",
    "5. observe que as variáveis ```['ESTCIVMAE', 'CONSULTAS']``` possuem o código ```9```, que significa *ignorado*. Vamos assumir que o não preenchido é o mesmo que o código ```9```.<br>\n",
    "6. Substitua os valores faltantes da quantitativa (```QTDFILVIVO```) por zero.  \n",
    "7. Das restantes, decida que valore te parece mais adequado (um 'não preenchido' ou um valor 'mais provável' como no item anterior) e preencha. Justifique. Lembre-se de que tratamento de dados é trabalho do cientista, e que estamos tomando decisões a todo o momento - não há necessariamente certo e errado aqui.  \n",
    "8. O Apgar possui uma classificação indicando se o bebê passou por asfixia:\n",
    "- Entre 8 e 10 está em uma faixa 'normal'. \n",
    "- Entre 6 e 7, significa que o recém-nascido passou por 'asfixia leve'. \n",
    "- Entre 4 e 5 significa 'asfixia moderada'.\n",
    "- Entre 0 e 3 significa 'asfixia severa'.  \n",
    "\n",
    "Crie uma categorização dessa variável com essa codificação e calcule as frequências dessa categorização.  \n",
    "<br>\n",
    "9. Renomeie as variáveis para que fiquem no *snake case*, ou seja, em letras minúsculas, com um *underscore* entre as palávras. Dica: repare que se você não quiser criar um *dataframe* novo, você vai precisar usar a opção ```inplace = True```."
   ]
  },
  {
   "cell_type": "markdown",
   "source": [
    "Importando as Bibliotecas Necessárias"
   ],
   "metadata": {
    "collapsed": false
   }
  },
  {
   "cell_type": "code",
   "execution_count": 1,
   "outputs": [],
   "source": [
    "import pandas as pd\n",
    "import requests"
   ],
   "metadata": {
    "collapsed": false,
    "ExecuteTime": {
     "end_time": "2023-09-15T21:05:25.003454800Z",
     "start_time": "2023-09-15T21:05:24.254485700Z"
    }
   }
  },
  {
   "cell_type": "code",
   "execution_count": 3,
   "metadata": {
    "ExecuteTime": {
     "end_time": "2023-09-15T21:05:52.317833Z",
     "start_time": "2023-09-15T21:05:51.837653Z"
    }
   },
   "outputs": [
    {
     "data": {
      "text/plain": "(27028, 69)"
     },
     "execution_count": 3,
     "metadata": {},
     "output_type": "execute_result"
    }
   ],
   "source": [
    "# 1) seu código aqui\n",
    "sinasc = pd.read_csv('SINASC_RO_2019.csv')\n",
    "\n",
    "sinasc.drop_duplicates().shape\n",
    "# Não há duplicados"
   ]
  },
  {
   "cell_type": "markdown",
   "source": [
    "Verificando a quantidade de dados faltantes no df"
   ],
   "metadata": {
    "collapsed": false
   }
  },
  {
   "cell_type": "code",
   "execution_count": 4,
   "outputs": [
    {
     "data": {
      "text/plain": "ORIGEM          0\nCODESTAB      115\nCODMUNNASC      0\nLOCNASC         0\nIDADEMAE        0\n             ... \nmunResUf        0\nmunResLat       1\nmunResLon       1\nmunResAlt       1\nmunResArea      1\nLength: 69, dtype: int64"
     },
     "execution_count": 4,
     "metadata": {},
     "output_type": "execute_result"
    }
   ],
   "source": [
    "# 2) seu código aqui\n",
    "sinasc.isna().sum()"
   ],
   "metadata": {
    "collapsed": false,
    "ExecuteTime": {
     "end_time": "2023-09-15T21:07:42.976150900Z",
     "start_time": "2023-09-15T21:07:42.877457900Z"
    }
   }
  },
  {
   "cell_type": "markdown",
   "source": [
    "Verificando a quantidade de dados Faltantes nas colunas que serão usadas para tratamento"
   ],
   "metadata": {
    "collapsed": false
   }
  },
  {
   "cell_type": "code",
   "execution_count": 5,
   "metadata": {
    "ExecuteTime": {
     "end_time": "2023-09-15T21:10:54.711246300Z",
     "start_time": "2023-09-15T21:10:54.648321400Z"
    }
   },
   "outputs": [
    {
     "data": {
      "text/plain": "LOCNASC          0\nIDADEMAE         0\nESTCIVMAE      317\nESCMAE         312\nQTDFILVIVO    1573\nGESTACAO      1232\nGRAVIDEZ        79\nCONSULTAS        0\nAPGAR5         103\ndtype: int64"
     },
     "execution_count": 5,
     "metadata": {},
     "output_type": "execute_result"
    }
   ],
   "source": [
    "# 3) seu código aqui\n",
    "\n",
    "colunas = ['LOCNASC', 'IDADEMAE', 'ESTCIVMAE', 'ESCMAE', 'QTDFILVIVO','GESTACAO', 'GRAVIDEZ', 'CONSULTAS', 'APGAR5']\n",
    "\n",
    "sinasc[colunas].isna().sum()"
   ]
  },
  {
   "cell_type": "markdown",
   "source": [
    "Verificando a quantidade de dados, e quantos estão faltantes."
   ],
   "metadata": {
    "collapsed": false
   }
  },
  {
   "cell_type": "code",
   "execution_count": 121,
   "metadata": {
    "ExecuteTime": {
     "end_time": "2023-09-13T22:33:52.978172400Z",
     "start_time": "2023-09-13T22:33:52.918348300Z"
    }
   },
   "outputs": [
    {
     "name": "stdout",
     "output_type": "stream",
     "text": [
      "(27028,)\n",
      "103\n"
     ]
    }
   ],
   "source": [
    "# 4) seu código aqui\n",
    "\n",
    "print(sinasc['APGAR5'].shape)\n",
    "print(sinasc['APGAR5'].isna().sum())"
   ]
  },
  {
   "cell_type": "markdown",
   "source": [
    "Corrigindo dados Faltantes"
   ],
   "metadata": {
    "collapsed": false
   }
  },
  {
   "cell_type": "code",
   "execution_count": 122,
   "metadata": {
    "ExecuteTime": {
     "end_time": "2023-09-13T22:33:53.062537600Z",
     "start_time": "2023-09-13T22:33:52.978172400Z"
    }
   },
   "outputs": [],
   "source": [
    "sinasc.dropna(subset = ['APGAR5'], inplace = True)"
   ]
  },
  {
   "cell_type": "markdown",
   "source": [
    "Verificando se os dados foram corrigidos"
   ],
   "metadata": {
    "collapsed": false
   }
  },
  {
   "cell_type": "code",
   "execution_count": 123,
   "metadata": {
    "ExecuteTime": {
     "end_time": "2023-09-13T22:33:53.125606600Z",
     "start_time": "2023-09-13T22:33:53.062537600Z"
    }
   },
   "outputs": [
    {
     "name": "stdout",
     "output_type": "stream",
     "text": [
      "(26925,)\n",
      "0\n"
     ]
    }
   ],
   "source": [
    "print(sinasc['APGAR5'].shape)\n",
    "print(sinasc['APGAR5'].isna().sum())"
   ]
  },
  {
   "cell_type": "markdown",
   "source": [
    "Corrigindo dados Faltantes "
   ],
   "metadata": {
    "collapsed": false
   }
  },
  {
   "cell_type": "code",
   "execution_count": 76,
   "metadata": {
    "ExecuteTime": {
     "end_time": "2023-09-15T21:59:52.229501100Z",
     "start_time": "2023-09-15T21:59:52.197755300Z"
    }
   },
   "outputs": [
    {
     "data": {
      "text/plain": "ESTCIVMAE    0\nCONSULTAS    0\ndtype: int64"
     },
     "execution_count": 76,
     "metadata": {},
     "output_type": "execute_result"
    }
   ],
   "source": [
    "# 5) seu código aqui\n",
    "\n",
    "sinasc[['ESTCIVMAE','CONSULTAS']] = sinasc[['ESTCIVMAE','CONSULTAS']].fillna(9)\n",
    "\n",
    "# Realizado a correção para ignorado, a fim de não deixar a base de dados tendenciosa. \n",
    "\n",
    "sinasc[['ESTCIVMAE','CONSULTAS']].isna().sum()"
   ]
  },
  {
   "cell_type": "markdown",
   "source": [
    "Verificando Dados faltantes na tabela QTDFILVIVO"
   ],
   "metadata": {
    "collapsed": false
   }
  },
  {
   "cell_type": "code",
   "execution_count": 125,
   "outputs": [
    {
     "data": {
      "text/plain": "1566"
     },
     "execution_count": 125,
     "metadata": {},
     "output_type": "execute_result"
    }
   ],
   "source": [
    "sinasc['QTDFILVIVO'].isna()\n",
    "sinasc['QTDFILVIVO'].isna().sum()"
   ],
   "metadata": {
    "collapsed": false,
    "ExecuteTime": {
     "end_time": "2023-09-13T22:33:53.275388600Z",
     "start_time": "2023-09-13T22:33:53.215559900Z"
    }
   }
  },
  {
   "cell_type": "markdown",
   "source": [
    "Corrigindo os dados faltantes"
   ],
   "metadata": {
    "collapsed": false
   }
  },
  {
   "cell_type": "code",
   "execution_count": 7,
   "outputs": [],
   "source": [
    "# 6) Seu código aqui\n",
    "sinasc['QTDFILVIVO'].fillna(0, inplace = True)"
   ],
   "metadata": {
    "collapsed": false,
    "ExecuteTime": {
     "end_time": "2023-09-15T21:16:07.913494700Z",
     "start_time": "2023-09-15T21:16:07.908306200Z"
    }
   }
  },
  {
   "cell_type": "markdown",
   "source": [
    "Verificando se as correções Foram efetuadas"
   ],
   "metadata": {
    "collapsed": false
   }
  },
  {
   "cell_type": "code",
   "execution_count": 8,
   "outputs": [
    {
     "data": {
      "text/plain": "0"
     },
     "execution_count": 8,
     "metadata": {},
     "output_type": "execute_result"
    }
   ],
   "source": [
    "sinasc['QTDFILVIVO'].isna().sum()"
   ],
   "metadata": {
    "collapsed": false,
    "ExecuteTime": {
     "end_time": "2023-09-15T21:16:09.620458700Z",
     "start_time": "2023-09-15T21:16:09.588888600Z"
    }
   }
  },
  {
   "cell_type": "code",
   "execution_count": 9,
   "metadata": {
    "ExecuteTime": {
     "end_time": "2023-09-15T21:16:10.972491Z",
     "start_time": "2023-09-15T21:16:10.941569600Z"
    }
   },
   "outputs": [
    {
     "data": {
      "text/plain": "LOCNASC          0\nIDADEMAE         0\nESTCIVMAE      317\nESCMAE         312\nQTDFILVIVO       0\nGESTACAO      1232\nGRAVIDEZ        79\nCONSULTAS        0\nAPGAR5         103\ndtype: int64"
     },
     "execution_count": 9,
     "metadata": {},
     "output_type": "execute_result"
    }
   ],
   "source": [
    "# 7) seu código aqui\n",
    "sinasc[colunas].isna().sum()"
   ]
  },
  {
   "cell_type": "code",
   "execution_count": 16,
   "outputs": [
    {
     "data": {
      "text/plain": "LOCNASC         0\nIDADEMAE        0\nESTCIVMAE     317\nESCMAE          0\nQTDFILVIVO      0\nGESTACAO        0\nGRAVIDEZ        0\nCONSULTAS       0\nAPGAR5        103\ndtype: int64"
     },
     "execution_count": 16,
     "metadata": {},
     "output_type": "execute_result"
    }
   ],
   "source": [
    "sinasc[['ESCMAE','GESTACAO','GRAVIDEZ']] = sinasc[['ESCMAE','GESTACAO','GRAVIDEZ']].fillna(9)\n",
    "\n",
    "sinasc[colunas].isna().sum()"
   ],
   "metadata": {
    "collapsed": false,
    "ExecuteTime": {
     "end_time": "2023-09-15T21:17:32.681682900Z",
     "start_time": "2023-09-15T21:17:32.602902700Z"
    }
   }
  },
  {
   "cell_type": "code",
   "execution_count": 15,
   "outputs": [
    {
     "data": {
      "text/plain": "ESCMAE      0\nGESTACAO    0\nGRAVIDEZ    0\ndtype: int64"
     },
     "execution_count": 15,
     "metadata": {},
     "output_type": "execute_result"
    }
   ],
   "source": [
    "sinasc[['ESCMAE', \n",
    "        'GESTACAO',\n",
    "        'GRAVIDEZ']].isna().sum()"
   ],
   "metadata": {
    "collapsed": false,
    "ExecuteTime": {
     "end_time": "2023-09-15T21:17:11.313133200Z",
     "start_time": "2023-09-15T21:17:11.274704700Z"
    }
   }
  },
  {
   "cell_type": "markdown",
   "source": [
    "- Entre 8 e 10 está em uma faixa 'normal'. \n",
    "- Entre 6 e 7, significa que o recém-nascido passou por 'asfixia leve'. \n",
    "- Entre 4 e 5 significa 'asfixia moderada'.\n",
    "- Entre 0 e 3 significa 'asfixia severa'.  "
   ],
   "metadata": {
    "collapsed": false
   }
  },
  {
   "cell_type": "code",
   "execution_count": 19,
   "metadata": {
    "ExecuteTime": {
     "end_time": "2023-09-15T21:23:41.484427Z",
     "start_time": "2023-09-15T21:23:41.457135Z"
    }
   },
   "outputs": [],
   "source": [
    "# 8) seu código aqui\n",
    "sinasc.loc[(sinasc['APGAR5'] >= 8) & (sinasc['APGAR5'] <= 10) , 'cat_apgar5'] = 'normal'\n",
    "sinasc.loc[(sinasc['APGAR5'] >= 6) & (sinasc['APGAR5'] <= 7) , 'cat_apgar5'] = 'asfixia Leve'\n",
    "sinasc.loc[(sinasc['APGAR5'] >= 4) & (sinasc['APGAR5'] <= 5) , 'cat_apgar5'] = 'Asfixia Moderada'\n",
    "sinasc.loc[(sinasc['APGAR5'] >= 0) & (sinasc['APGAR5'] <= 3) , 'cat_apgar5'] = 'Asfixia Severa'"
   ]
  },
  {
   "cell_type": "markdown",
   "source": [
    "Verfificando a quantidade de dados em cada categoria."
   ],
   "metadata": {
    "collapsed": false
   }
  },
  {
   "cell_type": "code",
   "execution_count": 61,
   "outputs": [
    {
     "data": {
      "text/plain": "normal              26463\nasfixia Leve          320\nAsfixia Severa         74\nAsfixia Moderada       68\nName: cat_apgar5, dtype: int64"
     },
     "execution_count": 61,
     "metadata": {},
     "output_type": "execute_result"
    }
   ],
   "source": [
    "sinasc['cat_apgar5'].value_counts()"
   ],
   "metadata": {
    "collapsed": false,
    "ExecuteTime": {
     "end_time": "2023-09-15T21:47:35.588881100Z",
     "start_time": "2023-09-15T21:47:35.588375600Z"
    }
   }
  },
  {
   "cell_type": "code",
   "execution_count": 64,
   "outputs": [],
   "source": [],
   "metadata": {
    "collapsed": false,
    "ExecuteTime": {
     "end_time": "2023-09-15T21:51:20.713303900Z",
     "start_time": "2023-09-15T21:51:20.713303900Z"
    }
   }
  },
  {
   "cell_type": "markdown",
   "source": [
    "Calculando a porcentagem dos dados da categoria apgar5"
   ],
   "metadata": {
    "collapsed": false
   }
  },
  {
   "cell_type": "code",
   "execution_count": 59,
   "outputs": [
    {
     "data": {
      "text/plain": "normal              98.284123\nasfixia Leve         1.188487\nAsfixia Severa       0.274838\nAsfixia Moderada     0.252553\nName: cat_apgar5, dtype: float64"
     },
     "execution_count": 59,
     "metadata": {},
     "output_type": "execute_result"
    }
   ],
   "source": [
    "percentual = sinasc['cat_apgar5'].value_counts(normalize = True)*100\n",
    "percentual\n"
   ],
   "metadata": {
    "collapsed": false,
    "ExecuteTime": {
     "end_time": "2023-09-15T21:46:33.041757300Z",
     "start_time": "2023-09-15T21:46:33.026604300Z"
    }
   }
  },
  {
   "cell_type": "markdown",
   "source": [
    "Verificando se há dados faltantes na 'cat_apgar5'"
   ],
   "metadata": {
    "collapsed": false
   }
  },
  {
   "cell_type": "code",
   "execution_count": 72,
   "outputs": [
    {
     "data": {
      "text/plain": "0"
     },
     "execution_count": 72,
     "metadata": {},
     "output_type": "execute_result"
    }
   ],
   "source": [
    "sinasc['cat_apgar5'].isna().sum()"
   ],
   "metadata": {
    "collapsed": false,
    "ExecuteTime": {
     "end_time": "2023-09-15T21:57:21.659432800Z",
     "start_time": "2023-09-15T21:57:21.647907200Z"
    }
   }
  },
  {
   "cell_type": "markdown",
   "source": [
    "Fazendo a correção dos dados\n",
    "\n",
    "Escolhi corrigit para normal. Visto que é o dado mais frequente, na base de dados. "
   ],
   "metadata": {
    "collapsed": false
   }
  },
  {
   "cell_type": "code",
   "execution_count": 73,
   "outputs": [],
   "source": [
    "sinasc['cat_apgar5'].fillna('normal', inplace = True)"
   ],
   "metadata": {
    "collapsed": false,
    "ExecuteTime": {
     "end_time": "2023-09-15T21:57:26.404563700Z",
     "start_time": "2023-09-15T21:57:26.372992400Z"
    }
   }
  },
  {
   "cell_type": "markdown",
   "source": [
    "verificando se há dados faltantes, após a correção."
   ],
   "metadata": {
    "collapsed": false
   }
  },
  {
   "cell_type": "code",
   "execution_count": 74,
   "outputs": [
    {
     "data": {
      "text/plain": "0"
     },
     "execution_count": 74,
     "metadata": {},
     "output_type": "execute_result"
    }
   ],
   "source": [
    "sinasc['cat_apgar5'].isna().sum()\n"
   ],
   "metadata": {
    "collapsed": false,
    "ExecuteTime": {
     "end_time": "2023-09-15T21:57:28.214141700Z",
     "start_time": "2023-09-15T21:57:28.205488200Z"
    }
   }
  },
  {
   "cell_type": "markdown",
   "source": [
    "Recalculando a frequência em dados absolutos"
   ],
   "metadata": {
    "collapsed": false
   }
  },
  {
   "cell_type": "code",
   "execution_count": 75,
   "outputs": [
    {
     "data": {
      "text/plain": "normal              26566\nasfixia Leve          320\nAsfixia Severa         74\nAsfixia Moderada       68\nName: cat_apgar5, dtype: int64"
     },
     "execution_count": 75,
     "metadata": {},
     "output_type": "execute_result"
    }
   ],
   "source": [
    "sinasc['cat_apgar5'].value_counts()"
   ],
   "metadata": {
    "collapsed": false,
    "ExecuteTime": {
     "end_time": "2023-09-15T21:57:32.248835100Z",
     "start_time": "2023-09-15T21:57:32.217564200Z"
    }
   }
  },
  {
   "cell_type": "markdown",
   "source": [
    "Recalculando a frequência em dados percentuais."
   ],
   "metadata": {
    "collapsed": false
   }
  },
  {
   "cell_type": "code",
   "execution_count": 70,
   "outputs": [
    {
     "data": {
      "text/plain": "normal              98.290662\nasfixia Leve         1.183957\nAsfixia Severa       0.273790\nAsfixia Moderada     0.251591\nName: cat_apgar5, dtype: float64"
     },
     "execution_count": 70,
     "metadata": {},
     "output_type": "execute_result"
    }
   ],
   "source": [
    "percentual = sinasc['cat_apgar5'].value_counts(normalize = True)*100\n",
    "percentual"
   ],
   "metadata": {
    "collapsed": false,
    "ExecuteTime": {
     "end_time": "2023-09-15T21:55:56.822318200Z",
     "start_time": "2023-09-15T21:55:56.802773200Z"
    }
   }
  },
  {
   "cell_type": "code",
   "execution_count": 78,
   "metadata": {
    "ExecuteTime": {
     "end_time": "2023-09-15T22:03:06.371564900Z",
     "start_time": "2023-09-15T22:03:06.345564200Z"
    }
   },
   "outputs": [],
   "source": [
    "# 9) seu código aqui\n",
    "\n",
    "sinasc.columns = sinasc.columns.str.upper().str.replace(\" \", \"_\")"
   ]
  },
  {
   "cell_type": "markdown",
   "source": [
    "Verificando se estão da forma desejada"
   ],
   "metadata": {
    "collapsed": false
   }
  },
  {
   "cell_type": "code",
   "execution_count": 80,
   "outputs": [
    {
     "data": {
      "text/plain": "Empty DataFrame\nColumns: [ORIGEM, CODESTAB, CODMUNNASC, LOCNASC, IDADEMAE, ESTCIVMAE, ESCMAE, CODOCUPMAE, QTDFILVIVO, QTDFILMORT, CODMUNRES, GESTACAO, GRAVIDEZ, PARTO, CONSULTAS, DTNASC, HORANASC, SEXO, APGAR1, APGAR5, RACACOR, PESO, IDANOMAL, DTCADASTRO, CODANOMAL, NUMEROLOTE, VERSAOSIST, DTRECEBIM, DIFDATA, DTRECORIGA, NATURALMAE, CODMUNNATU, CODUFNATU, ESCMAE2010, SERIESCMAE, DTNASCMAE, RACACORMAE, QTDGESTANT, QTDPARTNOR, QTDPARTCES, IDADEPAI, DTULTMENST, SEMAGESTAC, TPMETESTIM, CONSPRENAT, MESPRENAT, TPAPRESENT, STTRABPART, STCESPARTO, TPNASCASSI, TPFUNCRESP, TPDOCRESP, DTDECLARAC, ESCMAEAGR1, STDNEPIDEM, STDNNOVA, CODPAISRES, TPROBSON, PARIDADE, KOTELCHUCK, CONTADOR, MUNRESSTATUS, MUNRESTIPO, MUNRESNOME, MUNRESUF, MUNRESLAT, MUNRESLON, MUNRESALT, MUNRESAREA, CAT_APGAR5]\nIndex: []\n\n[0 rows x 70 columns]",
      "text/html": "<div>\n<style scoped>\n    .dataframe tbody tr th:only-of-type {\n        vertical-align: middle;\n    }\n\n    .dataframe tbody tr th {\n        vertical-align: top;\n    }\n\n    .dataframe thead th {\n        text-align: right;\n    }\n</style>\n<table border=\"1\" class=\"dataframe\">\n  <thead>\n    <tr style=\"text-align: right;\">\n      <th></th>\n      <th>ORIGEM</th>\n      <th>CODESTAB</th>\n      <th>CODMUNNASC</th>\n      <th>LOCNASC</th>\n      <th>IDADEMAE</th>\n      <th>ESTCIVMAE</th>\n      <th>ESCMAE</th>\n      <th>CODOCUPMAE</th>\n      <th>QTDFILVIVO</th>\n      <th>QTDFILMORT</th>\n      <th>...</th>\n      <th>CONTADOR</th>\n      <th>MUNRESSTATUS</th>\n      <th>MUNRESTIPO</th>\n      <th>MUNRESNOME</th>\n      <th>MUNRESUF</th>\n      <th>MUNRESLAT</th>\n      <th>MUNRESLON</th>\n      <th>MUNRESALT</th>\n      <th>MUNRESAREA</th>\n      <th>CAT_APGAR5</th>\n    </tr>\n  </thead>\n  <tbody>\n  </tbody>\n</table>\n<p>0 rows × 70 columns</p>\n</div>"
     },
     "execution_count": 80,
     "metadata": {},
     "output_type": "execute_result"
    }
   ],
   "source": [
    "sinasc.head(0)"
   ],
   "metadata": {
    "collapsed": false,
    "ExecuteTime": {
     "end_time": "2023-09-15T22:03:53.264011600Z",
     "start_time": "2023-09-15T22:03:53.232215Z"
    }
   }
  }
 ],
 "metadata": {
  "kernelspec": {
   "display_name": "Python 3 (ipykernel)",
   "language": "python",
   "name": "python3"
  },
  "language_info": {
   "codemirror_mode": {
    "name": "ipython",
    "version": 3
   },
   "file_extension": ".py",
   "mimetype": "text/x-python",
   "name": "python",
   "nbconvert_exporter": "python",
   "pygments_lexer": "ipython3",
   "version": "3.11.4"
  }
 },
 "nbformat": 4,
 "nbformat_minor": 4
}
