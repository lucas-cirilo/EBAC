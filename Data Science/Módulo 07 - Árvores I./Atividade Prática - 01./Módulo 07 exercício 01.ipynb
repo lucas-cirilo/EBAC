{
 "cells": [
  {
   "cell_type": "markdown",
   "metadata": {},
   "source": [
    "# Módulo 07, Tarefa 01\n",
    "\n",
    "Vamos começar a mexer na nossa base de projeto? Já fizemos um exercício de montar a variável resposta, já pudemos perceber que essa atividade pode não ser trivial. Vamos agora trabalhar a base para que fique propícia ao *scikitlearn* para trabalharmos.\n",
    "\n",
    "Lembrando, a base se chama demo01.csv, e originalmente está publicada [aqui](https://www.kaggle.com/rikdifos/credit-card-approval-prediction)."
   ]
  },
  {
   "cell_type": "markdown",
   "metadata": {},
   "source": [
    "#### 1) Carregue a base e avalie:\n",
    "\n",
    "- As variáveis\n",
    "- Tipos de dados de cada variável\n",
    "- Quantidade de missings\n",
    "- Distribuição da variável resposta (mau)"
   ]
  },
  {
   "cell_type": "code",
   "execution_count": 214,
   "outputs": [],
   "source": [
    "import seaborn as sns\n",
    "import pandas as pd"
   ],
   "metadata": {
    "collapsed": false,
    "ExecuteTime": {
     "end_time": "2023-09-29T20:02:54.828839800Z",
     "start_time": "2023-09-29T20:02:54.776935300Z"
    }
   }
  },
  {
   "cell_type": "code",
   "execution_count": 215,
   "metadata": {
    "ExecuteTime": {
     "end_time": "2023-09-29T20:02:54.974807300Z",
     "start_time": "2023-09-29T20:02:54.787384300Z"
    }
   },
   "outputs": [
    {
     "name": "stdout",
     "output_type": "stream",
     "text": [
      "Quantidade total de linhas: 16650\n",
      "Número de linhas duplicadas: 9880\n"
     ]
    }
   ],
   "source": [
    "df = pd.read_csv('demo01.csv')\n",
    "\n",
    "print('Quantidade total de linhas: {}'.format(len(df)))\n",
    "print('Número de linhas duplicadas: {}'.format(df.duplicated().sum()))"
   ]
  },
  {
   "cell_type": "code",
   "execution_count": 216,
   "outputs": [
    {
     "data": {
      "text/plain": "(16650, 16)"
     },
     "execution_count": 216,
     "metadata": {},
     "output_type": "execute_result"
    }
   ],
   "source": [
    "df.shape"
   ],
   "metadata": {
    "collapsed": false,
    "ExecuteTime": {
     "end_time": "2023-09-29T20:02:54.979848700Z",
     "start_time": "2023-09-29T20:02:54.929296800Z"
    }
   }
  },
  {
   "cell_type": "code",
   "execution_count": 217,
   "outputs": [
    {
     "name": "stdout",
     "output_type": "stream",
     "text": [
      "\n",
      "Quantidade de linhas após remoção: 6770\n"
     ]
    },
    {
     "data": {
      "text/plain": "     sexo posse_de_veiculo posse_de_imovel  qtd_filhos            tipo_renda  \\\n0       M                Y               Y           0               Working   \n1       F                N               Y           0  Commercial associate   \n2       M                Y               Y           0               Working   \n3       F                Y               N           0               Working   \n4       F                N               Y           0               Working   \n...   ...              ...             ...         ...                   ...   \n6765    F                N               Y           1               Working   \n6766    F                N               Y           0               Working   \n6767    F                N               Y           0  Commercial associate   \n6768    M                Y               Y           0               Working   \n6769    F                N               Y           0             Pensioner   \n\n                           educacao          estado_civil    tipo_residencia  \\\n0     Secondary / secondary special               Married  House / apartment   \n1     Secondary / secondary special  Single / not married  House / apartment   \n2                  Higher education               Married  House / apartment   \n3                 Incomplete higher               Married  House / apartment   \n4     Secondary / secondary special               Married  House / apartment   \n...                             ...                   ...                ...   \n6765  Secondary / secondary special  Single / not married  House / apartment   \n6766  Secondary / secondary special        Civil marriage  House / apartment   \n6767  Secondary / secondary special               Married  House / apartment   \n6768  Secondary / secondary special               Married  House / apartment   \n6769               Higher education               Married  House / apartment   \n\n          idade  tempo_emprego  possui_celular  possui_fone_comercial  \\\n0     58.832877       3.106849               1                      0   \n1     52.356164       8.358904               1                      0   \n2     46.224658       2.106849               1                      1   \n3     29.230137       3.021918               1                      0   \n4     27.482192       4.024658               1                      0   \n...         ...            ...             ...                    ...   \n6765  34.857534       3.101370               1                      1   \n6766  54.109589       9.884932               1                      0   \n6767  43.389041       7.380822               1                      1   \n6768  30.005479       9.800000               1                      1   \n6769  33.936986       3.630137               1                      0   \n\n      possui_fone  possui_email  qt_pessoas_residencia    mau  \n0               0             0                    2.0  False  \n1               1             1                    1.0  False  \n2               1             1                    2.0  False  \n3               0             0                    2.0  False  \n4               1             0                    2.0  False  \n...           ...           ...                    ...    ...  \n6765            1             0                    1.0   True  \n6766            0             0                    2.0   True  \n6767            1             0                    2.0   True  \n6768            0             0                    2.0   True  \n6769            1             1                    2.0   True  \n\n[6770 rows x 16 columns]",
      "text/html": "<div>\n<style scoped>\n    .dataframe tbody tr th:only-of-type {\n        vertical-align: middle;\n    }\n\n    .dataframe tbody tr th {\n        vertical-align: top;\n    }\n\n    .dataframe thead th {\n        text-align: right;\n    }\n</style>\n<table border=\"1\" class=\"dataframe\">\n  <thead>\n    <tr style=\"text-align: right;\">\n      <th></th>\n      <th>sexo</th>\n      <th>posse_de_veiculo</th>\n      <th>posse_de_imovel</th>\n      <th>qtd_filhos</th>\n      <th>tipo_renda</th>\n      <th>educacao</th>\n      <th>estado_civil</th>\n      <th>tipo_residencia</th>\n      <th>idade</th>\n      <th>tempo_emprego</th>\n      <th>possui_celular</th>\n      <th>possui_fone_comercial</th>\n      <th>possui_fone</th>\n      <th>possui_email</th>\n      <th>qt_pessoas_residencia</th>\n      <th>mau</th>\n    </tr>\n  </thead>\n  <tbody>\n    <tr>\n      <th>0</th>\n      <td>M</td>\n      <td>Y</td>\n      <td>Y</td>\n      <td>0</td>\n      <td>Working</td>\n      <td>Secondary / secondary special</td>\n      <td>Married</td>\n      <td>House / apartment</td>\n      <td>58.832877</td>\n      <td>3.106849</td>\n      <td>1</td>\n      <td>0</td>\n      <td>0</td>\n      <td>0</td>\n      <td>2.0</td>\n      <td>False</td>\n    </tr>\n    <tr>\n      <th>1</th>\n      <td>F</td>\n      <td>N</td>\n      <td>Y</td>\n      <td>0</td>\n      <td>Commercial associate</td>\n      <td>Secondary / secondary special</td>\n      <td>Single / not married</td>\n      <td>House / apartment</td>\n      <td>52.356164</td>\n      <td>8.358904</td>\n      <td>1</td>\n      <td>0</td>\n      <td>1</td>\n      <td>1</td>\n      <td>1.0</td>\n      <td>False</td>\n    </tr>\n    <tr>\n      <th>2</th>\n      <td>M</td>\n      <td>Y</td>\n      <td>Y</td>\n      <td>0</td>\n      <td>Working</td>\n      <td>Higher education</td>\n      <td>Married</td>\n      <td>House / apartment</td>\n      <td>46.224658</td>\n      <td>2.106849</td>\n      <td>1</td>\n      <td>1</td>\n      <td>1</td>\n      <td>1</td>\n      <td>2.0</td>\n      <td>False</td>\n    </tr>\n    <tr>\n      <th>3</th>\n      <td>F</td>\n      <td>Y</td>\n      <td>N</td>\n      <td>0</td>\n      <td>Working</td>\n      <td>Incomplete higher</td>\n      <td>Married</td>\n      <td>House / apartment</td>\n      <td>29.230137</td>\n      <td>3.021918</td>\n      <td>1</td>\n      <td>0</td>\n      <td>0</td>\n      <td>0</td>\n      <td>2.0</td>\n      <td>False</td>\n    </tr>\n    <tr>\n      <th>4</th>\n      <td>F</td>\n      <td>N</td>\n      <td>Y</td>\n      <td>0</td>\n      <td>Working</td>\n      <td>Secondary / secondary special</td>\n      <td>Married</td>\n      <td>House / apartment</td>\n      <td>27.482192</td>\n      <td>4.024658</td>\n      <td>1</td>\n      <td>0</td>\n      <td>1</td>\n      <td>0</td>\n      <td>2.0</td>\n      <td>False</td>\n    </tr>\n    <tr>\n      <th>...</th>\n      <td>...</td>\n      <td>...</td>\n      <td>...</td>\n      <td>...</td>\n      <td>...</td>\n      <td>...</td>\n      <td>...</td>\n      <td>...</td>\n      <td>...</td>\n      <td>...</td>\n      <td>...</td>\n      <td>...</td>\n      <td>...</td>\n      <td>...</td>\n      <td>...</td>\n      <td>...</td>\n    </tr>\n    <tr>\n      <th>6765</th>\n      <td>F</td>\n      <td>N</td>\n      <td>Y</td>\n      <td>1</td>\n      <td>Working</td>\n      <td>Secondary / secondary special</td>\n      <td>Single / not married</td>\n      <td>House / apartment</td>\n      <td>34.857534</td>\n      <td>3.101370</td>\n      <td>1</td>\n      <td>1</td>\n      <td>1</td>\n      <td>0</td>\n      <td>1.0</td>\n      <td>True</td>\n    </tr>\n    <tr>\n      <th>6766</th>\n      <td>F</td>\n      <td>N</td>\n      <td>Y</td>\n      <td>0</td>\n      <td>Working</td>\n      <td>Secondary / secondary special</td>\n      <td>Civil marriage</td>\n      <td>House / apartment</td>\n      <td>54.109589</td>\n      <td>9.884932</td>\n      <td>1</td>\n      <td>0</td>\n      <td>0</td>\n      <td>0</td>\n      <td>2.0</td>\n      <td>True</td>\n    </tr>\n    <tr>\n      <th>6767</th>\n      <td>F</td>\n      <td>N</td>\n      <td>Y</td>\n      <td>0</td>\n      <td>Commercial associate</td>\n      <td>Secondary / secondary special</td>\n      <td>Married</td>\n      <td>House / apartment</td>\n      <td>43.389041</td>\n      <td>7.380822</td>\n      <td>1</td>\n      <td>1</td>\n      <td>1</td>\n      <td>0</td>\n      <td>2.0</td>\n      <td>True</td>\n    </tr>\n    <tr>\n      <th>6768</th>\n      <td>M</td>\n      <td>Y</td>\n      <td>Y</td>\n      <td>0</td>\n      <td>Working</td>\n      <td>Secondary / secondary special</td>\n      <td>Married</td>\n      <td>House / apartment</td>\n      <td>30.005479</td>\n      <td>9.800000</td>\n      <td>1</td>\n      <td>1</td>\n      <td>0</td>\n      <td>0</td>\n      <td>2.0</td>\n      <td>True</td>\n    </tr>\n    <tr>\n      <th>6769</th>\n      <td>F</td>\n      <td>N</td>\n      <td>Y</td>\n      <td>0</td>\n      <td>Pensioner</td>\n      <td>Higher education</td>\n      <td>Married</td>\n      <td>House / apartment</td>\n      <td>33.936986</td>\n      <td>3.630137</td>\n      <td>1</td>\n      <td>0</td>\n      <td>1</td>\n      <td>1</td>\n      <td>2.0</td>\n      <td>True</td>\n    </tr>\n  </tbody>\n</table>\n<p>6770 rows × 16 columns</p>\n</div>"
     },
     "execution_count": 217,
     "metadata": {},
     "output_type": "execute_result"
    }
   ],
   "source": [
    "df.drop_duplicates(inplace=True)\n",
    "print('\\nQuantidade de linhas após remoção: {}'.format(len(df)))\n",
    "\n",
    "df.reset_index(drop=True, inplace=True)\n",
    "df"
   ],
   "metadata": {
    "collapsed": false,
    "ExecuteTime": {
     "end_time": "2023-09-29T20:02:55.082366500Z",
     "start_time": "2023-09-29T20:02:54.974807300Z"
    }
   }
  },
  {
   "cell_type": "code",
   "execution_count": 218,
   "outputs": [
    {
     "name": "stdout",
     "output_type": "stream",
     "text": [
      "<class 'pandas.core.frame.DataFrame'>\n",
      "RangeIndex: 6770 entries, 0 to 6769\n",
      "Data columns (total 16 columns):\n",
      " #   Column                 Non-Null Count  Dtype  \n",
      "---  ------                 --------------  -----  \n",
      " 0   sexo                   6770 non-null   object \n",
      " 1   posse_de_veiculo       6770 non-null   object \n",
      " 2   posse_de_imovel        6770 non-null   object \n",
      " 3   qtd_filhos             6770 non-null   int64  \n",
      " 4   tipo_renda             6770 non-null   object \n",
      " 5   educacao               6770 non-null   object \n",
      " 6   estado_civil           6770 non-null   object \n",
      " 7   tipo_residencia        6770 non-null   object \n",
      " 8   idade                  6770 non-null   float64\n",
      " 9   tempo_emprego          6770 non-null   float64\n",
      " 10  possui_celular         6770 non-null   int64  \n",
      " 11  possui_fone_comercial  6770 non-null   int64  \n",
      " 12  possui_fone            6770 non-null   int64  \n",
      " 13  possui_email           6770 non-null   int64  \n",
      " 14  qt_pessoas_residencia  6770 non-null   float64\n",
      " 15  mau                    6770 non-null   bool   \n",
      "dtypes: bool(1), float64(3), int64(5), object(7)\n",
      "memory usage: 800.1+ KB\n"
     ]
    }
   ],
   "source": [
    "df.info()"
   ],
   "metadata": {
    "collapsed": false,
    "ExecuteTime": {
     "end_time": "2023-09-29T20:02:55.204462Z",
     "start_time": "2023-09-29T20:02:55.082366500Z"
    }
   }
  },
  {
   "cell_type": "code",
   "execution_count": 219,
   "outputs": [
    {
     "data": {
      "text/plain": "(6770, 16)"
     },
     "execution_count": 219,
     "metadata": {},
     "output_type": "execute_result"
    }
   ],
   "source": [
    "df.shape"
   ],
   "metadata": {
    "collapsed": false,
    "ExecuteTime": {
     "end_time": "2023-09-29T20:02:55.436271500Z",
     "start_time": "2023-09-29T20:02:55.147868100Z"
    }
   }
  },
  {
   "cell_type": "code",
   "execution_count": 220,
   "outputs": [
    {
     "name": "stdout",
     "output_type": "stream",
     "text": [
      "\n",
      "Variáveis:\n"
     ]
    },
    {
     "data": {
      "text/plain": "Index(['sexo', 'posse_de_veiculo', 'posse_de_imovel', 'qtd_filhos',\n       'tipo_renda', 'educacao', 'estado_civil', 'tipo_residencia', 'idade',\n       'tempo_emprego', 'possui_celular', 'possui_fone_comercial',\n       'possui_fone', 'possui_email', 'qt_pessoas_residencia', 'mau'],\n      dtype='object')"
     },
     "execution_count": 220,
     "metadata": {},
     "output_type": "execute_result"
    }
   ],
   "source": [
    "print('\\nVariáveis:')\n",
    "df.columns"
   ],
   "metadata": {
    "collapsed": false,
    "ExecuteTime": {
     "end_time": "2023-09-29T20:02:55.439361400Z",
     "start_time": "2023-09-29T20:02:55.293848600Z"
    }
   }
  },
  {
   "cell_type": "code",
   "execution_count": 221,
   "outputs": [
    {
     "name": "stdout",
     "output_type": "stream",
     "text": [
      "\n",
      " Tipo de dados:\n"
     ]
    },
    {
     "data": {
      "text/plain": "sexo                      object\nposse_de_veiculo          object\nposse_de_imovel           object\nqtd_filhos                 int64\ntipo_renda                object\neducacao                  object\nestado_civil              object\ntipo_residencia           object\nidade                    float64\ntempo_emprego            float64\npossui_celular             int64\npossui_fone_comercial      int64\npossui_fone                int64\npossui_email               int64\nqt_pessoas_residencia    float64\nmau                         bool\ndtype: object"
     },
     "execution_count": 221,
     "metadata": {},
     "output_type": "execute_result"
    }
   ],
   "source": [
    "print('\\n Tipo de dados:')\n",
    "df.dtypes"
   ],
   "metadata": {
    "collapsed": false,
    "ExecuteTime": {
     "end_time": "2023-09-29T20:02:55.558153900Z",
     "start_time": "2023-09-29T20:02:55.424469200Z"
    }
   }
  },
  {
   "cell_type": "code",
   "execution_count": 222,
   "outputs": [
    {
     "name": "stdout",
     "output_type": "stream",
     "text": [
      "\n",
      " Quantidade de dados faltantes:\n"
     ]
    },
    {
     "data": {
      "text/plain": "sexo                     0\nposse_de_veiculo         0\nposse_de_imovel          0\nqtd_filhos               0\ntipo_renda               0\neducacao                 0\nestado_civil             0\ntipo_residencia          0\nidade                    0\ntempo_emprego            0\npossui_celular           0\npossui_fone_comercial    0\npossui_fone              0\npossui_email             0\nqt_pessoas_residencia    0\nmau                      0\ndtype: int64"
     },
     "execution_count": 222,
     "metadata": {},
     "output_type": "execute_result"
    }
   ],
   "source": [
    "print('\\n Quantidade de dados faltantes:')\n",
    "\n",
    "df.isna().sum()"
   ],
   "metadata": {
    "collapsed": false,
    "ExecuteTime": {
     "end_time": "2023-09-29T20:02:55.676072900Z",
     "start_time": "2023-09-29T20:02:55.502916100Z"
    }
   }
  },
  {
   "cell_type": "code",
   "execution_count": 223,
   "outputs": [
    {
     "name": "stdout",
     "output_type": "stream",
     "text": [
      "Quantidade de dados Duplicados:\n"
     ]
    },
    {
     "data": {
      "text/plain": "0"
     },
     "execution_count": 223,
     "metadata": {},
     "output_type": "execute_result"
    }
   ],
   "source": [
    "print('Quantidade de dados Duplicados:')\n",
    "df.duplicated().sum()"
   ],
   "metadata": {
    "collapsed": false,
    "ExecuteTime": {
     "end_time": "2023-09-29T20:02:55.781247300Z",
     "start_time": "2023-09-29T20:02:55.676072900Z"
    }
   }
  },
  {
   "cell_type": "code",
   "execution_count": 224,
   "outputs": [
    {
     "name": "stdout",
     "output_type": "stream",
     "text": [
      "Maus Pagadores:\n",
      "mau\n",
      "False    6472\n",
      "True      298\n",
      "dtype: int64\n",
      "\n",
      "percentual da variável resposta (mau):\n",
      "False    95.598227\n",
      "True      4.401773\n",
      "Name: mau, dtype: float64\n"
     ]
    }
   ],
   "source": [
    "print('Maus Pagadores:')\n",
    "print(df.value_counts('mau'))\n",
    "\n",
    "print('\\npercentual da variável resposta (mau):')\n",
    "print(df.mau.value_counts(normalize=True) * 100)"
   ],
   "metadata": {
    "collapsed": false,
    "ExecuteTime": {
     "end_time": "2023-09-29T20:02:55.860938100Z",
     "start_time": "2023-09-29T20:02:55.769243200Z"
    }
   }
  },
  {
   "cell_type": "markdown",
   "metadata": {},
   "source": [
    "#### 2) Vamos montar um metadados\n",
    "\n",
    "1. Crie um dataframe com os nomes de cada variável e o tipo de dados de cada variável.\n",
    "2. Adicione uma coluna nesse *dataframe* chamada \"qtd_categorias\" e coloque nela o número de categorias correspondente de cada variável. \n",
    "    Dica: \n",
    "        1. inicie uma lista vazia\n",
    "        2. faça um for ao longo dos nomes das variáveis, \n",
    "        3. conte o número de categorias dessa variável \n",
    "        4. acumule essa informação de 3. na lista que você criou em 1. \n",
    "        5. No final, essa lista pode ser atribuída à nossa variável.\n",
    "3. Crie variáveis dummy para as variáveis necessárias (i.e. aquelas que são qualitativas e não estão armazenadas como {0, 1} ou {True, False}."
   ]
  },
  {
   "cell_type": "code",
   "execution_count": 225,
   "metadata": {
    "ExecuteTime": {
     "end_time": "2023-09-29T20:02:56.036908300Z",
     "start_time": "2023-09-29T20:02:55.863274800Z"
    }
   },
   "outputs": [
    {
     "data": {
      "text/plain": "            nome_variável tipo_dados\n0                    sexo     object\n1        posse_de_veiculo     object\n2         posse_de_imovel     object\n3              qtd_filhos      int64\n4              tipo_renda     object\n5                educacao     object\n6            estado_civil     object\n7         tipo_residencia     object\n8                   idade    float64\n9           tempo_emprego    float64\n10         possui_celular      int64\n11  possui_fone_comercial      int64\n12            possui_fone      int64\n13           possui_email      int64\n14  qt_pessoas_residencia    float64\n15                    mau       bool",
      "text/html": "<div>\n<style scoped>\n    .dataframe tbody tr th:only-of-type {\n        vertical-align: middle;\n    }\n\n    .dataframe tbody tr th {\n        vertical-align: top;\n    }\n\n    .dataframe thead th {\n        text-align: right;\n    }\n</style>\n<table border=\"1\" class=\"dataframe\">\n  <thead>\n    <tr style=\"text-align: right;\">\n      <th></th>\n      <th>nome_variável</th>\n      <th>tipo_dados</th>\n    </tr>\n  </thead>\n  <tbody>\n    <tr>\n      <th>0</th>\n      <td>sexo</td>\n      <td>object</td>\n    </tr>\n    <tr>\n      <th>1</th>\n      <td>posse_de_veiculo</td>\n      <td>object</td>\n    </tr>\n    <tr>\n      <th>2</th>\n      <td>posse_de_imovel</td>\n      <td>object</td>\n    </tr>\n    <tr>\n      <th>3</th>\n      <td>qtd_filhos</td>\n      <td>int64</td>\n    </tr>\n    <tr>\n      <th>4</th>\n      <td>tipo_renda</td>\n      <td>object</td>\n    </tr>\n    <tr>\n      <th>5</th>\n      <td>educacao</td>\n      <td>object</td>\n    </tr>\n    <tr>\n      <th>6</th>\n      <td>estado_civil</td>\n      <td>object</td>\n    </tr>\n    <tr>\n      <th>7</th>\n      <td>tipo_residencia</td>\n      <td>object</td>\n    </tr>\n    <tr>\n      <th>8</th>\n      <td>idade</td>\n      <td>float64</td>\n    </tr>\n    <tr>\n      <th>9</th>\n      <td>tempo_emprego</td>\n      <td>float64</td>\n    </tr>\n    <tr>\n      <th>10</th>\n      <td>possui_celular</td>\n      <td>int64</td>\n    </tr>\n    <tr>\n      <th>11</th>\n      <td>possui_fone_comercial</td>\n      <td>int64</td>\n    </tr>\n    <tr>\n      <th>12</th>\n      <td>possui_fone</td>\n      <td>int64</td>\n    </tr>\n    <tr>\n      <th>13</th>\n      <td>possui_email</td>\n      <td>int64</td>\n    </tr>\n    <tr>\n      <th>14</th>\n      <td>qt_pessoas_residencia</td>\n      <td>float64</td>\n    </tr>\n    <tr>\n      <th>15</th>\n      <td>mau</td>\n      <td>bool</td>\n    </tr>\n  </tbody>\n</table>\n</div>"
     },
     "execution_count": 225,
     "metadata": {},
     "output_type": "execute_result"
    }
   ],
   "source": [
    "df_meta = pd.DataFrame(data=df.dtypes.reset_index())\n",
    "df_meta.columns = ['nome_variável', 'tipo_dados']\n",
    "df_meta"
   ]
  },
  {
   "cell_type": "code",
   "execution_count": 226,
   "outputs": [
    {
     "data": {
      "text/plain": "            nome_variável tipo_dados  qtd_categorias\n0                    sexo     object               2\n1        posse_de_veiculo     object               2\n2         posse_de_imovel     object               2\n3              qtd_filhos      int64               8\n4              tipo_renda     object               5\n5                educacao     object               5\n6            estado_civil     object               5\n7         tipo_residencia     object               6\n8                   idade    float64            5298\n9           tempo_emprego    float64            3005\n10         possui_celular      int64               1\n11  possui_fone_comercial      int64               2\n12            possui_fone      int64               2\n13           possui_email      int64               2\n14  qt_pessoas_residencia    float64               9\n15                    mau       bool               2",
      "text/html": "<div>\n<style scoped>\n    .dataframe tbody tr th:only-of-type {\n        vertical-align: middle;\n    }\n\n    .dataframe tbody tr th {\n        vertical-align: top;\n    }\n\n    .dataframe thead th {\n        text-align: right;\n    }\n</style>\n<table border=\"1\" class=\"dataframe\">\n  <thead>\n    <tr style=\"text-align: right;\">\n      <th></th>\n      <th>nome_variável</th>\n      <th>tipo_dados</th>\n      <th>qtd_categorias</th>\n    </tr>\n  </thead>\n  <tbody>\n    <tr>\n      <th>0</th>\n      <td>sexo</td>\n      <td>object</td>\n      <td>2</td>\n    </tr>\n    <tr>\n      <th>1</th>\n      <td>posse_de_veiculo</td>\n      <td>object</td>\n      <td>2</td>\n    </tr>\n    <tr>\n      <th>2</th>\n      <td>posse_de_imovel</td>\n      <td>object</td>\n      <td>2</td>\n    </tr>\n    <tr>\n      <th>3</th>\n      <td>qtd_filhos</td>\n      <td>int64</td>\n      <td>8</td>\n    </tr>\n    <tr>\n      <th>4</th>\n      <td>tipo_renda</td>\n      <td>object</td>\n      <td>5</td>\n    </tr>\n    <tr>\n      <th>5</th>\n      <td>educacao</td>\n      <td>object</td>\n      <td>5</td>\n    </tr>\n    <tr>\n      <th>6</th>\n      <td>estado_civil</td>\n      <td>object</td>\n      <td>5</td>\n    </tr>\n    <tr>\n      <th>7</th>\n      <td>tipo_residencia</td>\n      <td>object</td>\n      <td>6</td>\n    </tr>\n    <tr>\n      <th>8</th>\n      <td>idade</td>\n      <td>float64</td>\n      <td>5298</td>\n    </tr>\n    <tr>\n      <th>9</th>\n      <td>tempo_emprego</td>\n      <td>float64</td>\n      <td>3005</td>\n    </tr>\n    <tr>\n      <th>10</th>\n      <td>possui_celular</td>\n      <td>int64</td>\n      <td>1</td>\n    </tr>\n    <tr>\n      <th>11</th>\n      <td>possui_fone_comercial</td>\n      <td>int64</td>\n      <td>2</td>\n    </tr>\n    <tr>\n      <th>12</th>\n      <td>possui_fone</td>\n      <td>int64</td>\n      <td>2</td>\n    </tr>\n    <tr>\n      <th>13</th>\n      <td>possui_email</td>\n      <td>int64</td>\n      <td>2</td>\n    </tr>\n    <tr>\n      <th>14</th>\n      <td>qt_pessoas_residencia</td>\n      <td>float64</td>\n      <td>9</td>\n    </tr>\n    <tr>\n      <th>15</th>\n      <td>mau</td>\n      <td>bool</td>\n      <td>2</td>\n    </tr>\n  </tbody>\n</table>\n</div>"
     },
     "execution_count": 226,
     "metadata": {},
     "output_type": "execute_result"
    }
   ],
   "source": [
    "qtd_categorias = []\n",
    "\n",
    "for coluna in df.columns:\n",
    "    qtd_categorias.append(df[coluna].nunique())\n",
    "\n",
    "df_meta['qtd_categorias'] = qtd_categorias\n",
    "df_meta"
   ],
   "metadata": {
    "collapsed": false,
    "ExecuteTime": {
     "end_time": "2023-09-29T20:02:56.276896800Z",
     "start_time": "2023-09-29T20:02:56.022514900Z"
    }
   }
  },
  {
   "cell_type": "markdown",
   "metadata": {},
   "source": [
    "#### 3) Crie variáveis dummy para as variáveis necessárias (i.e. aquelas que são qualitativas e não estão armazenadas como {0, 1} ou {True, False}. Crie um *dataframe* apenas com as variáveis apropriadas para entrada no scikitlearn - elimine as variáveis tipo *str*, mantendo apenas suas versões *dummy*."
   ]
  },
  {
   "cell_type": "code",
   "execution_count": 226,
   "outputs": [],
   "source": [],
   "metadata": {
    "collapsed": false,
    "ExecuteTime": {
     "end_time": "2023-09-29T20:02:56.276896800Z",
     "start_time": "2023-09-29T20:02:56.145598400Z"
    }
   }
  },
  {
   "cell_type": "code",
   "execution_count": 227,
   "outputs": [],
   "source": [],
   "metadata": {
    "collapsed": false,
    "ExecuteTime": {
     "end_time": "2023-09-29T20:04:29.673352500Z",
     "start_time": "2023-09-29T20:04:29.657428300Z"
    }
   }
  },
  {
   "cell_type": "code",
   "execution_count": 228,
   "metadata": {
    "ExecuteTime": {
     "end_time": "2023-09-29T20:04:30.498998600Z",
     "start_time": "2023-09-29T20:04:30.452182Z"
    }
   },
   "outputs": [
    {
     "name": "stdout",
     "output_type": "stream",
     "text": [
      "<class 'pandas.core.frame.DataFrame'>\n",
      "RangeIndex: 6770 entries, 0 to 6769\n",
      "Data columns (total 30 columns):\n",
      " #   Column                                  Non-Null Count  Dtype  \n",
      "---  ------                                  --------------  -----  \n",
      " 0   qtd_filhos                              6770 non-null   int64  \n",
      " 1   idade                                   6770 non-null   float64\n",
      " 2   tempo_emprego                           6770 non-null   float64\n",
      " 3   possui_celular                          6770 non-null   int64  \n",
      " 4   possui_fone_comercial                   6770 non-null   int64  \n",
      " 5   possui_fone                             6770 non-null   int64  \n",
      " 6   possui_email                            6770 non-null   int64  \n",
      " 7   qt_pessoas_residencia                   6770 non-null   float64\n",
      " 8   mau                                     6770 non-null   bool   \n",
      " 9   sexo_M                                  6770 non-null   uint8  \n",
      " 10  posse_de_veiculo_Y                      6770 non-null   uint8  \n",
      " 11  posse_de_imovel_Y                       6770 non-null   uint8  \n",
      " 12  tipo_renda_Pensioner                    6770 non-null   uint8  \n",
      " 13  tipo_renda_State servant                6770 non-null   uint8  \n",
      " 14  tipo_renda_Student                      6770 non-null   uint8  \n",
      " 15  tipo_renda_Working                      6770 non-null   uint8  \n",
      " 16  educacao_Higher education               6770 non-null   uint8  \n",
      " 17  educacao_Incomplete higher              6770 non-null   uint8  \n",
      " 18  educacao_Lower secondary                6770 non-null   uint8  \n",
      " 19  educacao_Secondary / secondary special  6770 non-null   uint8  \n",
      " 20  estado_civil_Married                    6770 non-null   uint8  \n",
      " 21  estado_civil_Separated                  6770 non-null   uint8  \n",
      " 22  estado_civil_Single / not married       6770 non-null   uint8  \n",
      " 23  estado_civil_Widow                      6770 non-null   uint8  \n",
      " 24  tipo_residencia_Co-op apartment         6770 non-null   uint8  \n",
      " 25  tipo_residencia_House / apartment       6770 non-null   uint8  \n",
      " 26  tipo_residencia_Municipal apartment     6770 non-null   uint8  \n",
      " 27  tipo_residencia_Office apartment        6770 non-null   uint8  \n",
      " 28  tipo_residencia_Rented apartment        6770 non-null   uint8  \n",
      " 29  tipo_residencia_With parents            6770 non-null   uint8  \n",
      "dtypes: bool(1), float64(3), int64(5), uint8(21)\n",
      "memory usage: 568.7 KB\n",
      "None\n"
     ]
    }
   ],
   "source": [
    "df_dummies = pd.get_dummies(df.copy(),\n",
    "                            columns=['sexo',\n",
    "                                     'posse_de_veiculo',\n",
    "                                     'posse_de_imovel',\n",
    "                                     'tipo_renda',\n",
    "                                     'educacao',\n",
    "                                     'estado_civil',\n",
    "                                     ],\n",
    "                            drop_first = True)\n",
    "\n",
    "df_dummies = pd.get_dummies(data=df_dummies)\n",
    "\n",
    "print(df_dummies.info())"
   ]
  },
  {
   "cell_type": "code",
   "execution_count": 233,
   "outputs": [
    {
     "data": {
      "text/plain": "qtd_filhos                                  int64\nidade                                     float64\ntempo_emprego                             float64\npossui_celular                              int64\npossui_fone_comercial                       int64\npossui_fone                                 int64\npossui_email                                int64\nqt_pessoas_residencia                     float64\nmau                                         int32\nsexo_M                                      uint8\nposse_de_veiculo_Y                          uint8\nposse_de_imovel_Y                           uint8\ntipo_renda_Pensioner                        uint8\ntipo_renda_State servant                    uint8\ntipo_renda_Student                          uint8\ntipo_renda_Working                          uint8\neducacao_Higher education                   uint8\neducacao_Incomplete higher                  uint8\neducacao_Lower secondary                    uint8\neducacao_Secondary / secondary special      uint8\nestado_civil_Married                        uint8\nestado_civil_Separated                      uint8\nestado_civil_Single / not married           uint8\nestado_civil_Widow                          uint8\ntipo_residencia_Co-op apartment             uint8\ntipo_residencia_House / apartment           uint8\ntipo_residencia_Municipal apartment         uint8\ntipo_residencia_Office apartment            uint8\ntipo_residencia_Rented apartment            uint8\ntipo_residencia_With parents                uint8\ndtype: object"
     },
     "execution_count": 233,
     "metadata": {},
     "output_type": "execute_result"
    }
   ],
   "source": [
    "df_dummies.mau = df_dummies.mau.astype(int)\n",
    "df_dummies.dtypes"
   ],
   "metadata": {
    "collapsed": false,
    "ExecuteTime": {
     "end_time": "2023-09-29T20:05:29.478523300Z",
     "start_time": "2023-09-29T20:05:29.473211Z"
    }
   }
  },
  {
   "cell_type": "markdown",
   "metadata": {},
   "source": [
    "#### 4) Qual variável é mais poderosa?\n",
    "\n",
    "Considere as variáveis ```possui_email``` e ```posse_de_veiculo```. Faça uma tabela cruzada entre elas e responda qual delas te parece mais poderosa para prever a probabilidade de ```mau = 1```?"
   ]
  },
  {
   "cell_type": "code",
   "execution_count": 245,
   "metadata": {
    "ExecuteTime": {
     "end_time": "2023-09-29T20:16:34.510896600Z",
     "start_time": "2023-09-29T20:16:34.463738300Z"
    }
   },
   "outputs": [
    {
     "data": {
      "text/plain": "posse_de_veiculo_Y     0     1\npossui_email                  \n0                   3878  2327\n1                    333   232",
      "text/html": "<div>\n<style scoped>\n    .dataframe tbody tr th:only-of-type {\n        vertical-align: middle;\n    }\n\n    .dataframe tbody tr th {\n        vertical-align: top;\n    }\n\n    .dataframe thead th {\n        text-align: right;\n    }\n</style>\n<table border=\"1\" class=\"dataframe\">\n  <thead>\n    <tr style=\"text-align: right;\">\n      <th>posse_de_veiculo_Y</th>\n      <th>0</th>\n      <th>1</th>\n    </tr>\n    <tr>\n      <th>possui_email</th>\n      <th></th>\n      <th></th>\n    </tr>\n  </thead>\n  <tbody>\n    <tr>\n      <th>0</th>\n      <td>3878</td>\n      <td>2327</td>\n    </tr>\n    <tr>\n      <th>1</th>\n      <td>333</td>\n      <td>232</td>\n    </tr>\n  </tbody>\n</table>\n</div>"
     },
     "execution_count": 245,
     "metadata": {},
     "output_type": "execute_result"
    }
   ],
   "source": [
    "pd.crosstab(df_dummies['possui_email'], df_dummies['posse_de_veiculo_Y'])"
   ]
  },
  {
   "cell_type": "markdown",
   "source": [
    "A variável posse de veículo, parece possuir um maior valor para prever se um cliente é bom ou mau pagador. Visto que aparece com mais peso na base, enquanto que a variável possui email aparece em menor peso."
   ],
   "metadata": {
    "collapsed": false
   }
  },
  {
   "cell_type": "markdown",
   "metadata": {},
   "source": [
    "#### 5) Salve a base, pois ela será utilizada no final deste módulo."
   ]
  },
  {
   "cell_type": "code",
   "execution_count": 274,
   "metadata": {
    "ExecuteTime": {
     "end_time": "2023-09-29T20:24:42.052896800Z",
     "start_time": "2023-09-29T20:24:41.960646900Z"
    }
   },
   "outputs": [],
   "source": [
    "df_dummies.to_csv('Point/demo01_encoded.csv', sep = ',', index = True )"
   ]
  },
  {
   "cell_type": "code",
   "execution_count": null,
   "outputs": [],
   "source": [],
   "metadata": {
    "collapsed": false
   }
  }
 ],
 "metadata": {
  "kernelspec": {
   "display_name": "Python 3",
   "language": "python",
   "name": "python3"
  },
  "language_info": {
   "codemirror_mode": {
    "name": "ipython",
    "version": 3
   },
   "file_extension": ".py",
   "mimetype": "text/x-python",
   "name": "python",
   "nbconvert_exporter": "python",
   "pygments_lexer": "ipython3",
   "version": "3.8.5"
  }
 },
 "nbformat": 4,
 "nbformat_minor": 4
}
